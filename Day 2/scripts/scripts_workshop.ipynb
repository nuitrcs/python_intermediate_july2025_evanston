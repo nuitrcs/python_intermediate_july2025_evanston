{
 "cells": [
  {
   "cell_type": "markdown",
   "id": "0aec0356",
   "metadata": {},
   "source": [
    "# Working with `.py` files in and out of a notebook"
   ]
  },
  {
   "cell_type": "markdown",
   "id": "3593807b",
   "metadata": {},
   "source": [
    "## Motivation\n",
    "- Most Python users start in Jupyter notebooks — great for exploration!\n",
    "- `.py` scripts are essential for **reusable**, **shareable**, and **production-ready** code.\n",
    "\n",
    "### Notebooks are great for:\n",
    "- exploring data\n",
    "- data visualization\n",
    "- creating initial test versions of code (prototyping)\n",
    "- code that requires regular human intervention or feedback\n",
    "- teaching code\n",
    "\n",
    "But notebooks can be memory intensive, slow, messy and can't easily be executed in the background.\n",
    "\n",
    "### Scripts are a better choice for:\n",
    "- memory intensive jobs\n",
    "- parallel jobs\n",
    "- long tasks\n",
    "- creating data analysis pipelines\n",
    "- running jobs in the background (and allowing you to do something else!)\n",
    "- submitting code to run on a high-performance computer (e.g., Quest)\n",
    "- writing software\n",
    "\n",
    "But scripts may not be the best choice for viewing visualizations or other immediate output, and debugging can be a bit harder than in a notebook."
   ]
  },
  {
   "cell_type": "markdown",
   "id": "5b666513",
   "metadata": {},
   "source": [
    "## What is a `.py` file?\n",
    "\n",
    "- A plain text file containing Python code.\n",
    "- Saved with the `.py` extension.\n",
    "- Can be run as a program or imported into a notebook.\n",
    "\n",
    "You can create a `.py` file using a text editor on your computer.  For instance you could use VSCode, Notepad on a PC, TextEdit on a Mac, or any other plain text edit -- NOT Word.\n",
    "\n",
    "Let's take a look at `example01a_helloworld.py`.  (If you're working in Colab, you will likely need to upload this file and the others from our GitHub repo by dragging and dropping the files from your computer into the Colab file explorer in the left bar.) To view and edit the file, you can use any of these plain text editors:\n",
    "\n",
    "- If you are using Jupyter Lab on your own computer, you can double click the script from the file tree on the left. Jupyter Lab has its own text editor.\n",
    "- If you are using Google Colab online, you can double click the script from the file tree on the left. Google Colab has its own text editor!\n",
    "- You can also open a separate text editor on your own computer."
   ]
  },
  {
   "cell_type": "markdown",
   "id": "63c96b65",
   "metadata": {},
   "source": [
    "## Running a `.py` file\n",
    "\n",
    "You can run a `.py` file from a terminal or from a notebook.\n",
    "\n",
    "To run from a **terminal**, you can either:\n",
    "1. Use Colab's built in terminal utility\n",
    "2. Use the Anaconda Prompt (or Anaconda PowerShell Prompt on Windows) within the same directory as your script.  This does require some minimal bash command-line skills.  \n",
    "3. VSCode also contains a terminal, and there are other terminal apps that you may prefer.  These may require additional configuration to get them to recognize Python (and the version of Python that you intend to use).\n",
    "\n",
    "(I will demonstrate methods 1 and 2 above.)  \n",
    "\n",
    "If you need a refresher on basic bash commands, [here is a good starting point](https://www.w3schools.com/bash/bash_commands.php).\n",
    "\n",
    "Once you have your terminal open and in the directory containing yoru script, you would type the following:\n",
    "\n",
    "```bash\n",
    "python example01a_helloworld.py\n",
    "```\n",
    "\n",
    "Let's run that together.\n",
    "\n",
    "Alternatively, to run from a notebook (e.g., Jupyter or Colab):\n"
   ]
  },
  {
   "cell_type": "code",
   "execution_count": null,
   "id": "21ad0130",
   "metadata": {},
   "outputs": [],
   "source": [
    "import example01a_helloworld"
   ]
  },
  {
   "cell_type": "markdown",
   "id": "9f588f39",
   "metadata": {},
   "source": [
    "## Scripting best practices\n",
    "- Write **functions**, not just loose code.\n",
    "- Add **comments** to explain your logic.\n",
    "- Use **docstrings** for your functions.\n",
    "- Organize reusable code using:\n",
    "  ```python\n",
    "  if __name__ == \"__main__\":\n",
    "      # This code runs when the script is executed directly\n",
    "  ```"
   ]
  },
  {
   "cell_type": "markdown",
   "id": "d37e2c03",
   "metadata": {},
   "source": [
    "## (Refresher) What are Python functions?\n",
    "\n",
    "A function is a chunk of code that you give a name to.\n",
    "\n",
    "After you name the function, whenever you want to use it, you can call it by name instead of typing or copying and pasting the entire chunk of code.\n",
    "\n",
    "Using functions can help your code be **neater, faster, and reuseable**.\n",
    "\n",
    "If you have functions that you want to use in multiple scripts or notebooks, you can save them. Here are a few times when you might want to do that.\n",
    "\n",
    "For reusability:\n",
    "- You wrote code to create custom visualizations and want to apply it to multiple data sets\n",
    "- You frequently work with the same file type, and you have code to clean it or to extract certain data from it\n",
    "- You have code to check a file or dataset for certain qualities before you use it\n",
    "- You coded equations or algorithms\n",
    "- You find yourself frequently doing the exact same thing\n",
    "\n",
    "For organization/presentation:\n",
    "- Your notebook is getting long and slow and messy, and you want to clean it up by saving the function definitions in a different file\n",
    "- You want to use your notebook to display visualizations to an advisor or colleague and they don't need to see all the code behind the scenes\n",
    "\n",
    "\n",
    "By default, scripts run code from top to bottom. Of course, when you run a function definition:"
   ]
  },
  {
   "cell_type": "code",
   "execution_count": null,
   "id": "6f8dadce",
   "metadata": {},
   "outputs": [],
   "source": [
    "def makeFancy(a_string):\n",
    "    '''This function takes a string and returns a fancier string'''\n",
    "    new_list = a_string.upper().split()\n",
    "    new_string = \"**\".join(new_list)\n",
    "    return new_string"
   ]
  },
  {
   "cell_type": "markdown",
   "id": "ef3b094a",
   "metadata": {},
   "source": [
    "... your computer only stores it in memory, ready to use it when it eventually gets called:"
   ]
  },
  {
   "cell_type": "code",
   "execution_count": null,
   "id": "9ecdae7d",
   "metadata": {},
   "outputs": [],
   "source": [
    "makeFancy(\"This workshop is awesome.\")"
   ]
  },
  {
   "cell_type": "markdown",
   "id": "bb3bee63",
   "metadata": {},
   "source": [
    "Let's take a look at a Python script with a functions we can import. Open the script `example01b_helloworld.py` in your text editor. \n",
    "\n",
    "Let's walk through the file together and use it here in the notebook."
   ]
  },
  {
   "cell_type": "code",
   "execution_count": null,
   "id": "b454d308",
   "metadata": {},
   "outputs": [],
   "source": [
    "import example01b_helloworld"
   ]
  },
  {
   "cell_type": "markdown",
   "id": "43c94e66",
   "metadata": {},
   "source": [
    "To see what functions are available in an imported package, we can use the `dir()` command:"
   ]
  },
  {
   "cell_type": "code",
   "execution_count": null,
   "id": "cde48e9c",
   "metadata": {},
   "outputs": [],
   "source": [
    "dir(example01b_helloworld)"
   ]
  },
  {
   "cell_type": "markdown",
   "id": "e65b0fbe",
   "metadata": {},
   "source": [
    "If you ever forget which arguments are required from a function, you can use `?`:"
   ]
  },
  {
   "cell_type": "code",
   "execution_count": null,
   "id": "e60de837",
   "metadata": {},
   "outputs": [],
   "source": [
    "example01b_helloworld.greet?"
   ]
  },
  {
   "cell_type": "markdown",
   "id": "dcf6067e",
   "metadata": {},
   "source": [
    "Now let's use the `greet` function:"
   ]
  },
  {
   "cell_type": "code",
   "execution_count": null,
   "id": "5aa4012b",
   "metadata": {},
   "outputs": [],
   "source": [
    "example01b_helloworld.greet(\"John Doe\")"
   ]
  },
  {
   "cell_type": "markdown",
   "id": "dc032c7b",
   "metadata": {},
   "source": [
    "## Modules\n",
    "\n",
    "When your script only contains functions for importing into other scripts and notebooks, you can refer to it as a **module**.\n",
    "\n",
    "In general, when you import a script the Python interpreter will read it from top to bottom, storing functions along the way and executing any \"loose\" code.  Sometimes, like when you're importing individual functions from your script into a notebook, you may not want the script to produce output on import. Other times, you might have a script that you want to be able to use both ways - in its entirety from the command line AND calling individual functions into another script or notebook.\n",
    "\n",
    "To get around this problem, we're going to include a special line at the end of our code:\n",
    "\n",
    "  ```python\n",
    "  if __name__ == \"__main__\":\n",
    "      # This code runs when the script is executed directly\n",
    "  ```\n",
    "\n",
    "This is a conditional statement that allows you to define code  (contained inside `__main__`) that runs only when the file is executed as a script, not when it’s imported as a module.\n",
    "\n",
    "Let's look at `example01c_helloworld.py`.  We can use it here, and also in the terminal."
   ]
  },
  {
   "cell_type": "code",
   "execution_count": null,
   "id": "432df419",
   "metadata": {},
   "outputs": [],
   "source": [
    "# import the module (notice that there is no output)\n",
    "import example01c_helloworld"
   ]
  },
  {
   "cell_type": "code",
   "execution_count": null,
   "id": "87a7b78f",
   "metadata": {},
   "outputs": [],
   "source": [
    "# use the function here\n",
    "example01c_helloworld.greet(\"John Doe\")"
   ]
  },
  {
   "cell_type": "markdown",
   "id": "d6d85855",
   "metadata": {},
   "source": [
    "Now run this in the terminal with:\n",
    "\n",
    "```bash\n",
    "python example01c_helloworld.py\n",
    "```\n",
    "\n",
    "(This should output `Hello World!`)"
   ]
  },
  {
   "cell_type": "markdown",
   "id": "9206d407",
   "metadata": {},
   "source": [
    "## Anatomy of a (good) script\n",
    "\n",
    "Your script should have the following elements, in this order:\n",
    "1. sufficient comments (e.g., a docstring) at the top of the code so that a user knows what the script does and what is included.  \n",
    "2. any import statements\n",
    "3. any hard-coded variables (e.g., file names); we will do this later\n",
    "4. all functions (each should have their own descriptive docstring and comments)\n",
    "5. the `__main__` section\n",
    "\n",
    "Let's look at `example02_arithmetic.py`.\n"
   ]
  },
  {
   "cell_type": "code",
   "execution_count": null,
   "id": "1a909543",
   "metadata": {},
   "outputs": [],
   "source": [
    "# import the arithmetic module\n",
    "import example02_arithmetic "
   ]
  },
  {
   "cell_type": "code",
   "execution_count": null,
   "id": "a76dbd1a",
   "metadata": {},
   "outputs": [],
   "source": [
    "# define a list and use the print_sum function\n",
    "my_list = [1,2,3,4,5]\n",
    "s, s_sentence = example02_arithmetic.print_sum(my_list)\n",
    "print(s_sentence)"
   ]
  },
  {
   "cell_type": "markdown",
   "id": "f7faa3bf",
   "metadata": {},
   "source": [
    "Note that each of my functions return two values as tuples, the numerical result and a sentence.  "
   ]
  },
  {
   "cell_type": "markdown",
   "id": "8117bcac",
   "metadata": {},
   "source": [
    "## <span style=\"color:#4E2A84\">**Exercise:**</span>\n",
    "\n",
    "Use the `dir()` function to see what this `example02_arithmetic` module contains.  Also use `?` to show information about the `print_mean` function.\n",
    "\n",
    "Create your own list and use the `print_mean` function to print the mean value.\n",
    "\n",
    "*Bonus*: multiply the numerical mean value by 2, and print that result."
   ]
  },
  {
   "cell_type": "code",
   "execution_count": null,
   "id": "272a3349",
   "metadata": {},
   "outputs": [],
   "source": [
    "# your code goes here"
   ]
  },
  {
   "cell_type": "markdown",
   "id": "2f523db3",
   "metadata": {},
   "source": [
    "### Output in the terminal vs. notebook\n",
    "\n",
    "Let's look at another example that will provide a description of a pandas DataFrame: `example03_describe.py`.\n",
    "\n",
    "First, run the script from the command line.  (You should see output in the terminal.)\n",
    "\n",
    "Next, let's run it from inside the notebook."
   ]
  },
  {
   "cell_type": "code",
   "execution_count": null,
   "id": "bcd763e6",
   "metadata": {},
   "outputs": [],
   "source": [
    "# note that we can also just import the function(s) rather than the entire module\n",
    "from example03_describe import describe_data\n",
    "\n",
    "# I am importing pandas here because I want to use it below.\n",
    "# However, in this case it is not strictly necessary because example03_describe.py imports pandas.\n",
    "# Still, it is good practice to be explicit in your coding.\n",
    "import pandas as pd "
   ]
  },
  {
   "cell_type": "markdown",
   "id": "d1b9f35e",
   "metadata": {},
   "source": [
    "Notice how I imported `describe_data` directly.  Now I can use the `describe_data` function here without needing to explicitly type `example03_describe.describe_data`.  This will shorten your code, but note that it does abstract away some information (i.e., the original script name) AND importantly you could encounter naming conflicts if there was some other `describe_data` function in another script.  In our case this is not a concern, but it is something to think about for your future use.  \n",
    "\n",
    "Also note that if there are multiple functions, you can import them all with \n",
    "\n",
    "```python\n",
    "from example03_describe import *\n",
    "```\n",
    "\n",
    "Finally, note that you should have seen output when you ran the code in the terminal, but you do not see output here.  This is because the output you saw from the terminal is contained within:\n",
    "\n",
    "```python\n",
    "if __name__ == \"__main__\":\n",
    "```"
   ]
  },
  {
   "cell_type": "markdown",
   "id": "ac7d1966",
   "metadata": {},
   "source": [
    "Now let's create a basic dataframe and use `describe_data` :"
   ]
  },
  {
   "cell_type": "code",
   "execution_count": null,
   "id": "b3861232",
   "metadata": {},
   "outputs": [],
   "source": [
    "# Create a basic DataFrame for testing\n",
    "data = {\n",
    "    \"Name\": [\"Alice\", \"Bob\", \"Charlie\"],\n",
    "    \"Score\": [85, 92, 78]\n",
    "}\n",
    "df = pd.DataFrame(data)\n",
    "\n",
    "# send that DataFrame to our function \n",
    "describe_data(df)"
   ]
  },
  {
   "cell_type": "markdown",
   "id": "e99f2254",
   "metadata": {},
   "source": [
    "## <span style=\"color:#4E2A84\">**Exercise:**</span>\n",
    "\n",
    "Read in the `plots_of_land_1.csv` file with `pandas` to create a `DataFrame`, and use the `describe_data` to print a description of your `DataFrame`."
   ]
  },
  {
   "cell_type": "code",
   "execution_count": null,
   "id": "ee12a271",
   "metadata": {},
   "outputs": [],
   "source": [
    "# your code goes here\n"
   ]
  },
  {
   "cell_type": "markdown",
   "id": "e0b88728",
   "metadata": {},
   "source": [
    "## Hardcoding vs. User Input\n",
    "\n",
    "\n",
    "### Hardcoding\n",
    "\n",
    "Sometimes you may want to hardcode a variable into your script.  In `example04a_acre.py` I hardcoded the file name.  Let's look at this script."
   ]
  },
  {
   "cell_type": "markdown",
   "id": "d41b45f4",
   "metadata": {},
   "source": [
    "## <span style=\"color:#4E2A84\">**Exercise:**</span>\n",
    "\n",
    "Run `example04a_acre.py` from the command line. (You should see many lines printed to the terminal, each with an address and number of acres.)"
   ]
  },
  {
   "cell_type": "markdown",
   "id": "07c9f81f",
   "metadata": {},
   "source": [
    "### User Input from `sys`\n",
    "\n",
    "Other times, it may make more sense to allow the user to specify the value of a variable from the command line (or another input method) rather than hardcoding.  This can be important if, for instance, the script is used within a pipeline or other task that requires the same function to be applied to many files.\n",
    "\n",
    "Let's look at `example04b_acre.py`.  In this script, we use the `sys` module to get the user input from the command line.  To define the file for our script, write the file name after the script name in your command:  \n",
    "\n",
    "```bash\n",
    "python example04b_acre.py plots_of_land_1.csv\n",
    "```\n",
    "\n",
    "The file name will be stored in the `sys.argv` list.  We access the file name string inside our script with the Python code `sys.argv[1]`.\n",
    "\n",
    "Run the bash command above in your terminal to execute our `example04b_acre.py` script on the file `plots_of_land_1.csv`\n"
   ]
  },
  {
   "cell_type": "markdown",
   "id": "8862ef15",
   "metadata": {},
   "source": [
    "## <span style=\"color:#4E2A84\">**Exercise:**</span>\n",
    "\n",
    "Try running the script without an argument and see what happens.  (You should see an error message that I defined in the script.)\n",
    "\n",
    "Next, run the `example04b_acre.py` script on the file `plots_of_land_2.csv`."
   ]
  },
  {
   "cell_type": "markdown",
   "id": "8faa5964",
   "metadata": {},
   "source": [
    "## <span style=\"color:#4E2A84\">**Exercise:**</span>\n",
    "\n",
    "Write your own simple script that prints out the `sys.argv` list.  Run the script with any number of arguments to see the result.  What do you notice about the first element in the `sys.argv` list?"
   ]
  },
  {
   "cell_type": "markdown",
   "id": "d8517358",
   "metadata": {},
   "source": [
    "### User Input from `argparse`\n",
    "\n",
    "The method above provides a basic way to send arguments to your script via the command line, but we can do better with the `argparse` package ([see documentation here](https://docs.python.org/3/library/argparse.html)).  Some important features of the package :\n",
    "- easily provide help text for the user \n",
    "- we can allow the user to provide arguments in any order\n",
    "- we can define default values\n",
    "- error handling can be built in\n",
    "\n",
    "We will not cover all the features of `argparse`, but I encourage you to read the documentation and experiment!\n",
    "\n",
    "The basic syntax for `argparse` is as follows:\n",
    "```python\n",
    "# import the module\n",
    "import argparse\n",
    "\n",
    "# define the argument parser\n",
    "parser = argparse.ArgumentParser(description=\"Use this space to describe the code.\")\n",
    "# add any arguments you want (here we have only one)\n",
    "parser.add_argument(\"--input_a\", \"-a\", type=float, default=1.234, help=\"Input A\")\n",
    "parser.add_argument(\"--input_b\", \"-b\", type=int, default=42, help=\"Input B\")\n",
    "\n",
    "# get the user-defined arguments arguments \n",
    "args = parser.parse_args()\n",
    "\n",
    "# you can access your arguments with, e.g. \n",
    "# a = args.input_a\n",
    "\n",
    "```\n",
    "Notice how we can define both a short and long method for user to provide these arguments.\n"
   ]
  },
  {
   "cell_type": "markdown",
   "id": "a7f12e93",
   "metadata": {},
   "source": [
    "## <span style=\"color:#4E2A84\">**Exercise:**</span>\n",
    "\n",
    "Write your own script that uses `argparse` to define at least three different user inputs, parses them, and then prints them to the screen.  *Bonus* perform some operation with these user inputs (e.g., if they are numeric, you could add them together) and print the result. "
   ]
  },
  {
   "cell_type": "markdown",
   "id": "4173da1f",
   "metadata": {},
   "source": [
    "## <span style=\"color:#4E2A84\">**Exercise:**</span>\n",
    "\n",
    "Now let's take a look at the `example04c_acre.py`, where I have replaced the `sys` method with `argparse`.\n",
    "\n",
    "Run the following commands from your terminal (one at a time):\n",
    "\n",
    "The following two commands will show the (same) help text\n",
    "```bash\n",
    "python example04b_acre.py -h \n",
    "```\n",
    "\n",
    "```bash\n",
    "python example04b_acre.py --help\n",
    "```\n",
    "\n",
    "The following two commands will send the file `plots_of_land_1.csv` to our script and print the result to the screen.\n",
    "```bash\n",
    "python example04c_acre.py -f plots_of_land_1.csv\n",
    "```\n",
    "\n",
    "```bash\n",
    "python example04c_acre.py --filename plots_of_land_1.csv\n",
    "```\n",
    "\n",
    "This command will print an error.\n",
    "```bash\n",
    "python example04c_acre.py\n",
    "```"
   ]
  },
  {
   "cell_type": "markdown",
   "id": "ee44f024",
   "metadata": {},
   "source": [
    "## <span style=\"color:#4E2A84\">**Exercise:**</span>\n",
    "\n",
    "Run the `example04c_acre.py` script on the file `plots_of_land_2.csv`."
   ]
  },
  {
   "cell_type": "markdown",
   "id": "fed91b52",
   "metadata": {},
   "source": [
    "## <span style=\"color:#4E2A84\">**Final Exercise:** Analyze a Word List</span>\n",
    "\n",
    "Let's create a Python script that analyzes a list of words.\n",
    "\n",
    "## Goal\n",
    "Write a script that:\n",
    "- Reads in a file which will contain a list of words, expecting one word per line.\n",
    "- Prints out the list of words as part of a complete sentence.\n",
    "- Finds and prints:\n",
    "  1. The longest word\n",
    "  2. The number of words that start with a vowel\n",
    "  3. A list of all words in uppercase, printed one word per line.\n",
    "- Each of the printed outputs should be written as a complete sentence.\n",
    "- *BONUS*: Rather than printing all words in uppercase (task 3 above), add a user-defined argument for the number of words to print (e.g., if the user supplies 2, you only print the first 2 words in your list). \n",
    "\n",
    "## Instructions\n",
    "\n",
    "1. Create a file called `word_analysis.py`.\n",
    "\n",
    "2. In this file:\n",
    "   - Define **at least one function** that returns the outputs listed above.\n",
    "   - use the `argparse` module to get the filename (and any other arguments you need) from the user.\n",
    "   - Use `print()` statements in the `__main__` section to display results when the script is run directly.\n",
    "   - Add **helpful comments** and **docstrings** to tell users about your script, what each function does and what inputs are required, and how to run your script.\n",
    "   - Include the `if __name__ == \"__main__\":` section so that your script outputs the results when the user runs it from the command line.\n",
    "3. Run your script from the **command line** to apply your function(s) to the file `words.txt` .\n",
    "4. Run your script from a **notebook** to apply your function(s) to the file `words.txt` .\n"
   ]
  },
  {
   "cell_type": "code",
   "execution_count": null,
   "id": "acbd3462",
   "metadata": {},
   "outputs": [],
   "source": [
    "# Your code here"
   ]
  }
 ],
 "metadata": {
  "kernelspec": {
   "display_name": "base",
   "language": "python",
   "name": "python3"
  },
  "language_info": {
   "codemirror_mode": {
    "name": "ipython",
    "version": 3
   },
   "file_extension": ".py",
   "mimetype": "text/x-python",
   "name": "python",
   "nbconvert_exporter": "python",
   "pygments_lexer": "ipython3",
   "version": "3.10.9"
  }
 },
 "nbformat": 4,
 "nbformat_minor": 5
}
