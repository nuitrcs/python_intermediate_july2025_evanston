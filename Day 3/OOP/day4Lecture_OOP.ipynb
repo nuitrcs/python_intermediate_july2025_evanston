{
 "cells": [
  {
   "cell_type": "markdown",
   "metadata": {},
   "source": [
    "# <span style = \"color:rebeccapurple\">Object Oriented Programming</span>\n",
    "**(Or how to be Gordon Ramsey in under an hour)**"
   ]
  },
  {
   "cell_type": "markdown",
   "metadata": {},
   "source": [
    "In general there are 3 programming paradigms: *procedural*, *functional*, and *object oriented*. Roughly, this means:\n",
    "- In Procedural programming you give exact instructions one by one, to be followed in order, in a linear fashion.\n",
    "- In Functional programming you create a lot of consistent input-output functions. You then compose them one after another.\n",
    "- In Object Oriented Programming (which I like to call OOPs) you create entities called **objects**, each of which has a different set of skills. You then ask these objects to perform what you want to be performed according to their skills.\n",
    "\n",
    "They can all eventually accomplish the same thing, but some are much more efficient and manageable than others. Procedural programming is seldomly used for complicated and large projects. So far we have mostly done a combination of procedural and simple functional programming. OOP is very versatile and can handle very large and complex projects, but it also works well with small projects without much effort.\n",
    "\n",
    "Since your research projects have a high degree of complexity, mutability, recycling and remixing, I **strongly recommend** you start changing your coding paradigm towards OOP. You will thank me forever."
   ]
  },
  {
   "cell_type": "markdown",
   "metadata": {},
   "source": [
    "## <span style = \"color:darkorchid\">Concepts of Object Oriented Programming</span>"
   ]
  },
  {
   "cell_type": "markdown",
   "metadata": {},
   "source": [
    "The backbone of OOP are, of course, **objects**. An object is an *instance* of a **class**. For example a specific dorito you eat is an instance of a triangle. The definition of a triangle is the class. All doritos are instances of the class triangle. Think of classes as the abstract blueprints of objects.\n",
    "\n",
    "To better understand objects and classes, we'll have to visit Gordon Ramsey."
   ]
  },
  {
   "cell_type": "markdown",
   "metadata": {},
   "source": [
    "Imagine you are at a high-end restaurant. Let's say you are seeing Gordon Ramsay at work. There is an executive chef, a head chef, several sous-chefs, specialized chefs (for raosting, for pastries, etc.), each with a team of specialists (the butcher, the grill chef, the baker, the confectioner, etc.). Here is an image I got from google images:"
   ]
  },
  {
   "cell_type": "markdown",
   "metadata": {},
   "source": [
    "![brigade-de-cuisine-high-speed-learning.png](https://raw.githubusercontent.com/nuitrcs/pythonBootcamp_4Day/main/images/brigade-de-cuisine-high-speed-learning.png)"
   ]
  },
  {
   "cell_type": "markdown",
   "metadata": {},
   "source": [
    "Think of each of these as a type or a *class* of chefs. There are important things to note:\n",
    "<ul>\n",
    "    <li>They are all of the generic type <i>chef</i>, but some have extra skills or responsibilities.</li>\n",
    "    <li>You can have several chefs of the same class (like several sous-chefs). However, these are not the same people!</li>\n",
    "</ul>"
   ]
  },
  {
   "cell_type": "markdown",
   "metadata": {},
   "source": [
    "Well, classes in python are something similar. It is a specified type of entity that has specific skills and attributes. Objects are the realizations of these classes. Each realization is called an **<span style = \"color:blue\">instance</span>**. In python, the skills are called **<span style = \"color:blue\">methods</span>**, these are actions that all instances of a class can perform. They also have **<span style = \"color:blue\">attributes</span>** which are variables, possibly unique, that each instance has (like the names of individual chefs)."
   ]
  },
  {
   "cell_type": "markdown",
   "metadata": {},
   "source": [
    "### <span style = \"color:teal\">The Gordon Ramsey Principle</span>"
   ]
  },
  {
   "cell_type": "markdown",
   "metadata": {},
   "source": [
    "When you are writing a large python code, do not think of yourself as a homecook that does everything by themselves from scratch, following each step one after another. Instead, **<span style = \"color:crimson\">think of yourself as an executive chef</span>**. First you appoint all the chefs working for you, each with predetermined skills and attributes. You think of the overall plan, and then you delegate tasks to the respective chefs (which may, in turn, delegate tasks to their respective chefs and specialists)."
   ]
  },
  {
   "cell_type": "markdown",
   "metadata": {},
   "source": [
    "## <span style = \"color:darkorchid\">OOP In Action</span>"
   ]
  },
  {
   "cell_type": "markdown",
   "metadata": {},
   "source": [
    "Before creating our own classes, let's revisit some old friends."
   ]
  },
  {
   "cell_type": "markdown",
   "metadata": {},
   "source": [
    "### <span style = \"color:teal\">Predefined classes</span>"
   ]
  },
  {
   "cell_type": "markdown",
   "metadata": {},
   "source": [
    "You are already familiar with built-in Python object classes like *strings*, *integers*, *floats*, *lists*, and *dictionaries*. Let's see them in a new light."
   ]
  },
  {
   "cell_type": "markdown",
   "metadata": {},
   "source": [
    "Take strings as an example. In the code below, `my_string` is an object **instance** of the **class** `string`."
   ]
  },
  {
   "cell_type": "code",
   "execution_count": null,
   "metadata": {},
   "outputs": [],
   "source": [
    "my_string = \"Hello World.\"\n",
    "print(my_string)"
   ]
  },
  {
   "cell_type": "markdown",
   "metadata": {},
   "source": [
    "And in the code below, `another_string` is also an object **instance** of **class** `string`."
   ]
  },
  {
   "cell_type": "code",
   "execution_count": null,
   "metadata": {},
   "outputs": [],
   "source": [
    "another_string = \"Hello again.\"\n",
    "print(another_string)"
   ]
  },
  {
   "cell_type": "markdown",
   "metadata": {},
   "source": [
    "`string` and `another_string` are different objects, but they are both strings. That means they have the same methods (they can perform the same actions), and they have to follow the same rules all strings must follow.\n",
    "\n",
    "We've already encountered some string methods:"
   ]
  },
  {
   "cell_type": "code",
   "execution_count": null,
   "metadata": {},
   "outputs": [],
   "source": [
    "my_string.lower()"
   ]
  },
  {
   "cell_type": "code",
   "execution_count": null,
   "metadata": {},
   "outputs": [],
   "source": [
    "my_string.upper()"
   ]
  },
  {
   "cell_type": "code",
   "execution_count": null,
   "metadata": {},
   "outputs": [],
   "source": [
    "my_string.capitalize()"
   ]
  },
  {
   "cell_type": "code",
   "execution_count": null,
   "metadata": {},
   "outputs": [],
   "source": [
    "\"_\".join([\"hello\", \"world\"])"
   ]
  },
  {
   "cell_type": "markdown",
   "metadata": {},
   "source": [
    "Note that `.join()` is a method of a string, not of lists. The one performing the \"joining\" is the underscore string `_`. The list is an input to the method."
   ]
  },
  {
   "cell_type": "markdown",
   "metadata": {},
   "source": [
    "What if we tried to `.lower()` a non-string object?"
   ]
  },
  {
   "cell_type": "code",
   "execution_count": null,
   "metadata": {},
   "outputs": [],
   "source": [
    "some_number = 2\n",
    "some_number.lower()"
   ]
  },
  {
   "cell_type": "markdown",
   "metadata": {},
   "source": [
    "So if a class does not have a given method, you will get an error. That object doesn't know how to perform what you are asking of it!"
   ]
  },
  {
   "cell_type": "markdown",
   "metadata": {},
   "source": [
    "### <span style = \"color:teal\">Methods and Attributes</span>"
   ]
  },
  {
   "cell_type": "markdown",
   "metadata": {},
   "source": [
    "We mentioned methods are the *actions* an object can perform, while *attributes*  are its properties.\n",
    "\n",
    "Above, what was the recipe for `.lower()`, `.join()`, etc? Well, they all end with a parenthesis `()`, and they follow the object with a period `.`. The syntax is this:\n",
    "\n",
    "``object.method()``.\n",
    "\n",
    "Sometimes the methods have inputs, like in the case of `.join(some_list)`, which receives a list to join.\n",
    "\n",
    "How can you remember this? Well remember when you call a function you use the parenthesis. Since methods are like functions for objects (the action element), this should help."
   ]
  },
  {
   "cell_type": "markdown",
   "metadata": {},
   "source": [
    "What happens if you forget the parenthesis?"
   ]
  },
  {
   "cell_type": "code",
   "execution_count": null,
   "metadata": {},
   "outputs": [],
   "source": [
    "my_string.lower"
   ]
  },
  {
   "cell_type": "markdown",
   "metadata": {},
   "source": [
    "What's that? It actually returned a full function, as opposed to its output. In order for the function to \"activate\" and perform what it needs to, you must add the parenthesis."
   ]
  },
  {
   "cell_type": "markdown",
   "metadata": {},
   "source": [
    "Now what about attributes? `str` objects actually don't have any attributes, they are too simple! Indeed, most objects we've dealt with (numbers, lists, etc.) don't have attributes (besides their own values). Some more complex objects (like files and modules) do, but we won't go into those. We will instead create our own classes with attributes!"
   ]
  },
  {
   "cell_type": "markdown",
   "metadata": {},
   "source": [
    "## <span style = \"color:darkorchid\">Defining Our Own Classes</span>"
   ]
  },
  {
   "cell_type": "markdown",
   "metadata": {},
   "source": [
    "To define your own class, you just need the keyword `class`, use the following syntax:"
   ]
  },
  {
   "cell_type": "code",
   "execution_count": null,
   "metadata": {},
   "outputs": [],
   "source": [
    "class MySillyClass():\n",
    "    pass"
   ]
  },
  {
   "cell_type": "markdown",
   "metadata": {},
   "source": [
    "The `pass`statement is a placeholder that allows us to not do anything. Our class exists, but it doesn't have any attribute or methods."
   ]
  },
  {
   "cell_type": "markdown",
   "metadata": {},
   "source": [
    "To make an object of class `MySillyClass` we do the following:"
   ]
  },
  {
   "cell_type": "code",
   "execution_count": null,
   "metadata": {},
   "outputs": [],
   "source": [
    "silly_object = MySillyClass()"
   ]
  },
  {
   "cell_type": "markdown",
   "metadata": {},
   "source": [
    "Cool. `silly_object` can't do anything, and it doesn't have any data, but we can still see its class:"
   ]
  },
  {
   "cell_type": "code",
   "execution_count": null,
   "metadata": {},
   "outputs": [],
   "source": [
    "silly_object"
   ]
  },
  {
   "cell_type": "markdown",
   "metadata": {},
   "source": [
    "**Note**\n",
    "\n",
    "- The convention is to use **CamelCase** for class names. Note this is different to the **snake_case** we used for variable and function names.\n",
    "- When defining a class with the `class MyClass():` syntax, you don't actually need the parenthesis. There are cases where we will need them (later today), but it is OK if you don't use them.\n",
    "- To create a new object of a given class, however, you need the parentheses. Type the class name and a parenthesis. Don't forget the parenthesis!!"
   ]
  },
  {
   "cell_type": "markdown",
   "metadata": {},
   "source": [
    "OK, let's get back to our culinary dreams. Let us build the pastry chef. We'll start with the class definition:"
   ]
  },
  {
   "cell_type": "code",
   "execution_count": null,
   "metadata": {},
   "outputs": [],
   "source": [
    "class PastryChef:\n",
    "    pass"
   ]
  },
  {
   "cell_type": "markdown",
   "metadata": {},
   "source": [
    "It doesn't do anything."
   ]
  },
  {
   "cell_type": "markdown",
   "metadata": {},
   "source": [
    "### <span style = \"color:teal\">Methods</span>"
   ]
  },
  {
   "cell_type": "markdown",
   "metadata": {},
   "source": [
    "To add a method, we use the function syntax. Let's redefine it:"
   ]
  },
  {
   "cell_type": "code",
   "execution_count": null,
   "metadata": {},
   "outputs": [],
   "source": [
    "class PastryChef:\n",
    "    def bake(self, food):\n",
    "        print(f\"I've baked your {food}!\")"
   ]
  },
  {
   "cell_type": "markdown",
   "metadata": {},
   "source": [
    "We'll inspect these elements in one second, but first let's see what this does:"
   ]
  },
  {
   "cell_type": "code",
   "execution_count": null,
   "metadata": {},
   "outputs": [],
   "source": [
    "# Create a pastry chef, \n",
    "cerise = PastryChef()"
   ]
  },
  {
   "cell_type": "code",
   "execution_count": null,
   "metadata": {},
   "outputs": [],
   "source": [
    "cerise.bake(\"cookie\")"
   ]
  },
  {
   "cell_type": "markdown",
   "metadata": {},
   "source": [
    "<hr style = \"color:red\"/>\n",
    "\n",
    "**<span style = \"color:red\">EXERCISE</span>**"
   ]
  },
  {
   "cell_type": "markdown",
   "metadata": {},
   "source": [
    "Create a class called `Cashier` with one method called `calculate_tax`. It receives one input, a number, and it returns $10\\%$ of that value."
   ]
  },
  {
   "cell_type": "code",
   "execution_count": null,
   "metadata": {},
   "outputs": [],
   "source": []
  },
  {
   "cell_type": "code",
   "execution_count": null,
   "metadata": {},
   "outputs": [],
   "source": []
  },
  {
   "cell_type": "markdown",
   "metadata": {},
   "source": [
    "<hr style = \"color:red\"/>"
   ]
  },
  {
   "cell_type": "markdown",
   "metadata": {},
   "source": [
    "**``self``**\n",
    "\n",
    "Did you notice when we defined our bake method I had a first argument called `self`? This is done so the obejct can refer to itself and its internal methods and attributes (which we will see in one second). We will see more uses of it in a second and you will get familiar with it.\n",
    "- You actually don't have to use the word \"self\", you could use any other word, but everybody uses and understands  \"self\", so please use it.\n",
    "- When calling a method outside of the class definition, like in `cerise.bake(\"cookie\")`, we completely ignore the \"self\" argument."
   ]
  },
  {
   "cell_type": "markdown",
   "metadata": {},
   "source": [
    "**``__init__( )``**\n",
    "\n",
    "There is an important method that always exists in the background, even if you don't define it. This is `__init()__`. What this does is it gives python specifications of how to initialize the object. When we define our own classes, the first method we should define is `__init()`. So let's review our chef:"
   ]
  },
  {
   "cell_type": "code",
   "execution_count": null,
   "metadata": {},
   "outputs": [],
   "source": [
    "class PastryChef:\n",
    "    def __init__(self):                             # <-- Note we still use self here!\n",
    "        print(\"You have created a Pastry Chef!!\")"
   ]
  },
  {
   "cell_type": "code",
   "execution_count": null,
   "metadata": {},
   "outputs": [],
   "source": [
    "cerise = PastryChef()"
   ]
  },
  {
   "cell_type": "markdown",
   "metadata": {},
   "source": [
    "We can have more than one method. In this case, we'll have both ``__init__()`` and `bake()`."
   ]
  },
  {
   "cell_type": "code",
   "execution_count": null,
   "metadata": {},
   "outputs": [],
   "source": [
    "class PastryChef:\n",
    "    def __init__(self):                             # <-- Note we still use self here!\n",
    "        print(\"You have created a Pastry Chef!!\")\n",
    "        \n",
    "    def bake(self, food):\n",
    "        print(f\"I've baked your {food}!\")"
   ]
  },
  {
   "cell_type": "markdown",
   "metadata": {},
   "source": [
    "### <span style = \"color:teal\">Attributes</span>"
   ]
  },
  {
   "cell_type": "markdown",
   "metadata": {},
   "source": [
    "Let's give our chef some attributes. This are variables containing data. Let's start with something simple, a name. This is where `self` comes in handy:"
   ]
  },
  {
   "cell_type": "code",
   "execution_count": null,
   "metadata": {},
   "outputs": [],
   "source": [
    "class PastryChef:\n",
    "    def __init__(self, given_name):                         # <-- A new argument\n",
    "        self.name = given_name\n",
    "        print(\"You have created a Pastry Chef!!\")\n",
    "        \n",
    "    def bake(self, food):\n",
    "        print(f\"I've baked your {food}!\")"
   ]
  },
  {
   "cell_type": "code",
   "execution_count": null,
   "metadata": {},
   "outputs": [],
   "source": [
    "cerise = PastryChef(\"Cerise Ganache\")"
   ]
  },
  {
   "cell_type": "markdown",
   "metadata": {},
   "source": [
    "**Note**\n",
    "\n",
    "Now, `__init()__` is expecting an argument when the object is initialized. If we try to initialize it without a name. What would it do?"
   ]
  },
  {
   "cell_type": "code",
   "execution_count": null,
   "metadata": {},
   "outputs": [],
   "source": [
    "PastryChef()"
   ]
  },
  {
   "cell_type": "markdown",
   "metadata": {},
   "source": [
    "**Accessing Attributes**.\n",
    "\n",
    "To access an attribute of an object, you use the period `.` followed by the attribute name, but without parenthesis. This resembles variable names, as opposed to functions:"
   ]
  },
  {
   "cell_type": "code",
   "execution_count": null,
   "metadata": {},
   "outputs": [],
   "source": [
    "cerise.name"
   ]
  },
  {
   "cell_type": "code",
   "execution_count": null,
   "metadata": {},
   "outputs": [],
   "source": [
    "cerise.bake(\"cookie\")"
   ]
  },
  {
   "cell_type": "markdown",
   "metadata": {},
   "source": [
    "**Modifying Attributes**\n",
    "\n",
    "You can modify an attribute as you would for a normal variable:"
   ]
  },
  {
   "cell_type": "code",
   "execution_count": null,
   "metadata": {},
   "outputs": [],
   "source": [
    "cerise.name = \"Cerise Crumble\""
   ]
  },
  {
   "cell_type": "code",
   "execution_count": null,
   "metadata": {},
   "outputs": [],
   "source": [
    "cerise.name"
   ]
  },
  {
   "cell_type": "markdown",
   "metadata": {},
   "source": [
    "**`dir( )`**\n",
    "\n",
    "Before continuing, you will often need to know what methods and attributes an object has. You can use the built-in function `dir()` to find out."
   ]
  },
  {
   "cell_type": "code",
   "execution_count": null,
   "metadata": {},
   "outputs": [],
   "source": [
    "dir(cerise)"
   ]
  },
  {
   "cell_type": "markdown",
   "metadata": {},
   "source": [
    "Well that was unexpected.\n",
    "\n",
    "We only defined `__init()__`, `bake()`, and `name`, so what's going on? All the attributes surrounded by double underscores are predefined and all classes have them. For now we have only modified `__init()__`, and is the only one we will learn about today.\n",
    "\n",
    "We won't worry about the rest, they are not particularly obscure, we just don't have time. As you get more familiar with classes you will learn about these on your own."
   ]
  },
  {
   "cell_type": "markdown",
   "metadata": {},
   "source": [
    "<hr style = \"color:red\"/>\n",
    "\n",
    "**<span style = \"color:red\">EXERCISE</span>**"
   ]
  },
  {
   "cell_type": "markdown",
   "metadata": {},
   "source": [
    "Add an `__init__()`method to your cashier class above. It should get two inputs: its name, and its shift. These should be assigned to its attributes `name` and `shift`. Keep the `calculate_tax()` method. Check that you can calculate taxes correctly and you can accesss both attributes."
   ]
  },
  {
   "cell_type": "code",
   "execution_count": null,
   "metadata": {},
   "outputs": [],
   "source": []
  },
  {
   "cell_type": "code",
   "execution_count": null,
   "metadata": {},
   "outputs": [],
   "source": []
  },
  {
   "cell_type": "markdown",
   "metadata": {},
   "source": [
    "<hr style = \"color:red\"/>"
   ]
  },
  {
   "cell_type": "markdown",
   "metadata": {},
   "source": [
    "### <span style = \"color:teal\">Class Attributes vs Instance Attributes</span>"
   ]
  },
  {
   "cell_type": "markdown",
   "metadata": {},
   "source": [
    "The attribute `name` we defined above is an instance attribute (remember we assigned it to the instance using `self`). As it turns out, there are attributes that the whole class shares. This is how you can define those:"
   ]
  },
  {
   "cell_type": "code",
   "execution_count": null,
   "metadata": {},
   "outputs": [],
   "source": [
    "class PastryChef:\n",
    "    specialization = \"Pastry\"\n",
    "    \n",
    "    def __init__(self, given_name):\n",
    "        self.name = given_name\n",
    "        # I'll stop printing initialization method from now on.\n",
    "        \n",
    "    def bake(self, food):\n",
    "        print(f\"I've baked your {food}!\")"
   ]
  },
  {
   "cell_type": "code",
   "execution_count": null,
   "metadata": {},
   "outputs": [],
   "source": [
    "cerise = PastryChef(\"Cerise Ganache\")\n",
    "claire = PastryChef(\"E. Claire Framboise\")"
   ]
  },
  {
   "cell_type": "code",
   "execution_count": null,
   "metadata": {},
   "outputs": [],
   "source": [
    "print(cerise.name, \", Specialization: \", cerise.specialization)\n",
    "\n",
    "print(claire.name, \", Specialization: \", claire.specialization)"
   ]
  },
  {
   "cell_type": "markdown",
   "metadata": {},
   "source": [
    "You have to be careful with class attributes, because these can potentially be shared, like this:"
   ]
  },
  {
   "cell_type": "code",
   "execution_count": null,
   "metadata": {},
   "outputs": [],
   "source": [
    "class PastryChef:\n",
    "    specialization = []\n",
    "    def __init__(self, given_name):\n",
    "        self.name = given_name"
   ]
  },
  {
   "cell_type": "code",
   "execution_count": null,
   "metadata": {},
   "outputs": [],
   "source": [
    "cerise = PastryChef(\"Cerise\")\n",
    "\n",
    "claire = PastryChef(\"Claire\")"
   ]
  },
  {
   "cell_type": "code",
   "execution_count": null,
   "metadata": {},
   "outputs": [],
   "source": [
    "# Print specialization\n",
    "print(cerise.specialization)\n",
    "print(claire.specialization)\n",
    "\n",
    "# Modify individual specialization:\n",
    "cerise.specialization.append(\"Confectionery\")\n",
    "claire.specialization.append(\"Bakery\")\n",
    "\n",
    "# Print specialization again\n",
    "print(cerise.specialization)\n",
    "print(claire.specialization)"
   ]
  },
  {
   "cell_type": "markdown",
   "metadata": {},
   "source": [
    "Woah! Cerise and Claire now share the same list of specializations, which was not our intention."
   ]
  },
  {
   "cell_type": "markdown",
   "metadata": {},
   "source": [
    "### <span style = \"color:teal\">More on methods</span>"
   ]
  },
  {
   "cell_type": "markdown",
   "metadata": {},
   "source": [
    "Do you remember the `self` argument to our methods? Well, it will help us access attributes inside methods. Say we want an \"introduction\" method, where the chefs introduce themselves. They need to know their own name!"
   ]
  },
  {
   "cell_type": "code",
   "execution_count": null,
   "metadata": {},
   "outputs": [],
   "source": [
    "class PastryChef:\n",
    "    def __init__(self, given_name):\n",
    "        self.name = given_name\n",
    "    \n",
    "    def introduction(self):\n",
    "        print(f\"Hello, my name is {self.name}.\")"
   ]
  },
  {
   "cell_type": "code",
   "execution_count": null,
   "metadata": {},
   "outputs": [],
   "source": [
    "chuck = PastryChef(\"Chuck O'Leith\")"
   ]
  },
  {
   "cell_type": "code",
   "execution_count": null,
   "metadata": {},
   "outputs": [],
   "source": [
    "chuck.introduction()"
   ]
  },
  {
   "cell_type": "markdown",
   "metadata": {},
   "source": [
    "Note the `introduction()` method, inside the class definition, only has the self argument, which is how we access the `name` attribute. When calling this method for `chuck`, no argument is needed."
   ]
  },
  {
   "cell_type": "markdown",
   "metadata": {},
   "source": [
    "OK, let's start building more interesting methods. I want to calculate the volume of cakes, so I'll need the module `math`."
   ]
  },
  {
   "cell_type": "code",
   "execution_count": null,
   "metadata": {},
   "outputs": [],
   "source": [
    "import math"
   ]
  },
  {
   "cell_type": "code",
   "execution_count": null,
   "metadata": {},
   "outputs": [],
   "source": [
    "class PastryChef:\n",
    "\n",
    "    def __init__(self, given_name):\n",
    "        self.name = given_name\n",
    "    \n",
    "    def get_cake_volume(self, n_people):\n",
    "        height = 3\n",
    "        radius = math.sqrt(n_people)\n",
    "        volume = height * (2 * math.pi * radius)\n",
    "        return volume"
   ]
  },
  {
   "cell_type": "code",
   "execution_count": null,
   "metadata": {},
   "outputs": [],
   "source": [
    "mack = PastryChef(\"Mack A. Roon\")\n",
    "mack.get_cake_volume(n_people = 4)"
   ]
  },
  {
   "cell_type": "markdown",
   "metadata": {},
   "source": [
    "Now let's add a method that recommends a dessert based on your desired quality:"
   ]
  },
  {
   "cell_type": "code",
   "execution_count": null,
   "metadata": {},
   "outputs": [],
   "source": [
    "class PastryChef:\n",
    "    menu_recommendations = {\n",
    "        'fun': 'banana split',\n",
    "        'fried': 'churros',\n",
    "        'flaky': 'croissant',\n",
    "        'frozen': 'ice cream',\n",
    "        'fudgy': 'brownie',\n",
    "        'flavorful': 'tiramisu',\n",
    "        'finessed': 'opera cake'\n",
    "    }\n",
    "\n",
    "    def __init__(self, given_name):\n",
    "        self.name = given_name\n",
    "    \n",
    "    def get_cake_volume(self, n_people):\n",
    "        height = 3\n",
    "        radius = math.sqrt(n_people)\n",
    "        volume = height * (2 * math.pi * radius)\n",
    "        return volume\n",
    "    \n",
    "    def recommend(self, quality):\n",
    "        print(f\"Based on your desired quality, I recommend {self.menu_recommendations[quality]}\")"
   ]
  },
  {
   "cell_type": "code",
   "execution_count": null,
   "metadata": {},
   "outputs": [],
   "source": [
    "mack = PastryChef(\"Mack A. Roon\")\n",
    "mack.recommend(\"flavorful\")"
   ]
  },
  {
   "cell_type": "markdown",
   "metadata": {},
   "source": [
    "What if we ask for a non-f quality?"
   ]
  },
  {
   "cell_type": "code",
   "execution_count": null,
   "metadata": {},
   "outputs": [],
   "source": [
    "class PastryChef:\n",
    "    menu_recommendations = {\n",
    "        'fun': 'banana split',\n",
    "        'fried': 'churros',\n",
    "        'flaky': 'croissant',\n",
    "        'frozen': 'ice cream',\n",
    "        'fudgy': 'brownie',\n",
    "        'flavorful': 'tiramisu',\n",
    "        'finessed': 'opera cake'\n",
    "    }\n",
    "\n",
    "    def __init__(self, given_name):\n",
    "        self.name = given_name\n",
    "    \n",
    "    def get_cake_volume(self, n_people):\n",
    "        height = 3\n",
    "        radius = math.sqrt(n_people)\n",
    "        volume = height * (2 * math.pi * radius)\n",
    "        return volume;\n",
    "    \n",
    "    def recommend(self, quality):\n",
    "        try:\n",
    "            print(f\"Based on your desired quality, I recommend {self.menu_recommendations[quality]}\")\n",
    "        except KeyError:\n",
    "            print(\"Fanciful Folks Favored. Forego Further Forays.\")"
   ]
  },
  {
   "cell_type": "code",
   "execution_count": null,
   "metadata": {},
   "outputs": [],
   "source": [
    "mack = PastryChef(\"Mack A. Roon\")\n",
    "mack.recommend(\"finessed\")\n",
    "mack.recommend(\"tart\")"
   ]
  },
  {
   "cell_type": "markdown",
   "metadata": {},
   "source": [
    "<hr style = \"color:red\"/>\n",
    "\n",
    "**<span style = \"color:red\">EXERCISE</span>**"
   ]
  },
  {
   "cell_type": "markdown",
   "metadata": {},
   "source": [
    "Go back to your Cashier class. Add a new method called `calculate_total`. It should receive a list of numbers as input, and output the sum of all these numbers.\n",
    "\n",
    "(Optional): Make a method that combines `calculate_total` and `calculate_taxes` and prints a message along the lines of \"Your total with taxes is X\"."
   ]
  },
  {
   "cell_type": "code",
   "execution_count": null,
   "metadata": {},
   "outputs": [],
   "source": []
  },
  {
   "cell_type": "markdown",
   "metadata": {},
   "source": [
    "<hr style = \"color:red\"/>"
   ]
  },
  {
   "cell_type": "markdown",
   "metadata": {},
   "source": [
    "Now let's bring back our `.bake()` method, and add a `prepare_cake()` method:"
   ]
  },
  {
   "cell_type": "code",
   "execution_count": null,
   "metadata": {},
   "outputs": [],
   "source": [
    "class PastryChef:\n",
    "    menu_recommendations = {\n",
    "        'fun': 'banana split',\n",
    "        'fried': 'churros',\n",
    "        'flaky': 'croissant',\n",
    "        'frozen': 'ice cream',\n",
    "        'fudgy': 'brownie',\n",
    "        'flavorful': 'tiramisu',\n",
    "        'finessed': 'opera cake'\n",
    "    }\n",
    "\n",
    "    def __init__(self, given_name):\n",
    "        self.name = given_name\n",
    "    \n",
    "    def get_cake_volume(self, n_people):\n",
    "        height = 3\n",
    "        radius = math.sqrt(n_people)\n",
    "        volume = height * (2 * math.pi * radius)\n",
    "        return volume;\n",
    "    \n",
    "    def recommend(self, quality):\n",
    "        try:\n",
    "            print(f\"Based on your desired quality, I recommend {self.menu_recommendations[quality]}\")\n",
    "        except KeyError:\n",
    "            print(\"Fanciful Folks Favored. Forego Further Forays.\")\n",
    "    \n",
    "    def bake(self, cake, volume):\n",
    "        print(f\"I've baked your {cake} cake, it was {volume} units.\")\n",
    "    \n",
    "    def prepare_cake(self, n_people, cake):\n",
    "        volume = self.get_cake_volume(n_people)\n",
    "        self.bake(cake, volume)"
   ]
  },
  {
   "cell_type": "code",
   "execution_count": null,
   "metadata": {},
   "outputs": [],
   "source": [
    "cerise = PastryChef(\"Cerise Ganache\")"
   ]
  },
  {
   "cell_type": "code",
   "execution_count": null,
   "metadata": {},
   "outputs": [],
   "source": [
    "# Ask Cerise for a recommendation\n",
    "cerise.recommend(\"fried\")"
   ]
  },
  {
   "cell_type": "code",
   "execution_count": null,
   "metadata": {},
   "outputs": [],
   "source": [
    "# Ask Cerise to make a cake for 5 people\n",
    "cerise.prepare_cake(n_people=5, cake=\"velvet\")"
   ]
  },
  {
   "cell_type": "markdown",
   "metadata": {},
   "source": [
    "## <span style = \"color:darkorchid\">Review</span>"
   ]
  },
  {
   "cell_type": "markdown",
   "metadata": {},
   "source": [
    "The recipe for making your own classes can be summarized like this:"
   ]
  },
  {
   "cell_type": "code",
   "execution_count": null,
   "metadata": {},
   "outputs": [],
   "source": [
    "class MyClass:\n",
    "    class_attribute = \"something here, could be string, number, etc.\"\n",
    "\n",
    "    def __init__(self, att1, att2):\n",
    "        self.attribute1 = att1\n",
    "        self.attribute2 = att2\n",
    "    \n",
    "    def do_something(self, arg1):\n",
    "        # This function does something\n",
    "        return ;\n",
    "    \n",
    "    def method_1(self):\n",
    "        self.do_something(self.att1)\n",
    "        return ;"
   ]
  },
  {
   "cell_type": "markdown",
   "metadata": {},
   "source": [
    "<hr style = \"color:red\"/>\n",
    "\n",
    "**<span style = \"color:red\">EXERCISE</span>**"
   ]
  },
  {
   "cell_type": "markdown",
   "metadata": {},
   "source": [
    "Let's go back to your Cashier class.\n",
    "- Add a class attribute called `menu`. It is a dictionary which has a couple of items of your choice and their prices.\n",
    "- Add an instance attribute called `menu_order`. It is an empty list.\n",
    "- Add a method called `add_item` that takes as input an item from the menu and adds it to the `menu_order`.\n",
    "- Finally, add a method called `checkout` that calculates the total in the menu order, computes and adds the tax, and prints out the result."
   ]
  },
  {
   "cell_type": "code",
   "execution_count": null,
   "metadata": {},
   "outputs": [],
   "source": []
  },
  {
   "cell_type": "code",
   "execution_count": null,
   "metadata": {},
   "outputs": [],
   "source": []
  },
  {
   "cell_type": "markdown",
   "metadata": {},
   "source": [
    "<hr style = \"color:red\"/>"
   ]
  },
  {
   "cell_type": "markdown",
   "metadata": {},
   "source": [
    "## <span style = \"color:darkorchid\">Case Examples</span>"
   ]
  },
  {
   "cell_type": "markdown",
   "metadata": {},
   "source": [
    "### <span style = \"color:teal\">A Machine Learning Project</span>"
   ]
  },
  {
   "cell_type": "markdown",
   "metadata": {},
   "source": [
    "A common pipeline in machine learning includes the following elements and/or stages: data collection, pre-processing, data splitting, optimization, model selection, testing, post-processing, visualization.\n",
    "\n",
    "* Your data types may be very different from each other.\n",
    "* These steps do not always happen in this order.\n",
    "* We may have different optimizers that later ensemble in some way.\n",
    "* We may have multiple models interacting with each other.\n",
    "* etc.\n",
    "\n",
    "Therefore, it is beneficial to define classes that perform each of these stages (or sub-stages within), and create isntances of those classes as we need them. For exmple, a class for each data type (a time series, real-valued samples, networks, data with symmetric properties, etc.), a class for different types of pre-processors, a class for each optimizer, etc."
   ]
  },
  {
   "cell_type": "markdown",
   "metadata": {},
   "source": [
    "Popular machine learning libraries like transformers, pytorch, tensorflow, scikit-learn, etc. have pre-determined classes that specialize in particulars tasks."
   ]
  },
  {
   "cell_type": "markdown",
   "metadata": {},
   "source": [
    "### <span style = \"color:teal\">A Simulation Project</span>"
   ]
  },
  {
   "cell_type": "markdown",
   "metadata": {},
   "source": [
    "Simulation paradigms benefit greatly from OOP. For example, in agent based modeling, you simulate interactions among individual agents. In this case, each agent must exist by itself, and it has a variety of internal properties and abilities. Does this sound familiar?\n",
    "\n",
    "This principle extends widely: used in economics, biology, epidemiology, astronomy, transportation, etc."
   ]
  },
  {
   "cell_type": "markdown",
   "metadata": {},
   "source": [
    "Newer machine learning approaches leverage physical principles while learning. In this case two different \"paradigms\" collide: standard machine learning and (often) differential equations. You will save yourself much with specialized classes that deal with each component."
   ]
  },
  {
   "cell_type": "markdown",
   "metadata": {},
   "source": [
    "### <span style = \"color:teal\">Genomics</span>\n",
    "\n",
    "The well-known biopython package is object oriented. Each gene sequence is belongs to the class of gene sequences. If they are transcribed to protein sequences, they are their own protein sequence class! Etc."
   ]
  },
  {
   "cell_type": "markdown",
   "metadata": {},
   "source": [
    "<hr style = \"color:red\"/>\n",
    "\n",
    "**<span style = \"color:red\">EXERCISE</span>**"
   ]
  },
  {
   "cell_type": "markdown",
   "metadata": {},
   "source": [
    "Think about a common pipeline in your own field. How would you conceptualize this using OOP? Which classes would you have? Which methods and attributes would these classes have? How would they interact?"
   ]
  },
  {
   "cell_type": "markdown",
   "metadata": {},
   "source": [
    "<blockquote>\n",
    "Write your thougts here."
   ]
  },
  {
   "cell_type": "markdown",
   "metadata": {},
   "source": [
    "<hr style = \"color:red\"/>"
   ]
  },
  {
   "cell_type": "markdown",
   "metadata": {},
   "source": [
    "## <span style = \"color:darkorchid\">(Optional) Inheritance</span>"
   ]
  },
  {
   "cell_type": "markdown",
   "metadata": {},
   "source": [
    "Assume that all pastry chefs can do what confectioners and bakers can, but not the other way around. How do we deal with this situation? Well, we could define three different classes, each with their own methods. However, we would be repeating a lot of code in the definition of pastry chefs. Also, we wouldn't know, unless we check our code line by line, that pastry chefs can what bakers and confectioners can."
   ]
  },
  {
   "cell_type": "markdown",
   "metadata": {},
   "source": [
    "Enter the notion of **inheritance**. We can have a base class with given methods and attributes, and another class that *inherits* those methods and attributes. This second class we call the *child* class of the first (which we call the *parent* class)."
   ]
  },
  {
   "cell_type": "markdown",
   "metadata": {},
   "source": [
    "Implementing is not difficult. When we define the class, use the parenthesis in the class name and write the parent class. Let's see this in action."
   ]
  },
  {
   "cell_type": "code",
   "execution_count": null,
   "metadata": {},
   "outputs": [],
   "source": [
    "class Baker():\n",
    "    def __init__(self, name):\n",
    "        self.name = name\n",
    "    \n",
    "    def bake(self, cake):\n",
    "        print(f\"Your {cake} cake is ready!!\")"
   ]
  },
  {
   "cell_type": "code",
   "execution_count": null,
   "metadata": {},
   "outputs": [],
   "source": [
    "claire = Baker(\"Claire\")\n",
    "claire.bake(\"velvet\")"
   ]
  },
  {
   "cell_type": "code",
   "execution_count": null,
   "metadata": {},
   "outputs": [],
   "source": [
    "class PastryChef(Baker):        # <-- Note the Baker indication\n",
    "    pass"
   ]
  },
  {
   "cell_type": "code",
   "execution_count": null,
   "metadata": {},
   "outputs": [],
   "source": [
    "cerise = PastryChef(\"Cerise\")"
   ]
  },
  {
   "cell_type": "code",
   "execution_count": null,
   "metadata": {},
   "outputs": [],
   "source": [
    "cerise.name"
   ]
  },
  {
   "cell_type": "code",
   "execution_count": null,
   "metadata": {},
   "outputs": [],
   "source": [
    "cerise.bake(\"velvet\")"
   ]
  },
  {
   "cell_type": "markdown",
   "metadata": {},
   "source": [
    "Woah! What happened here? Notice we did not do anything in the `PastryChef` definition, and Cerise still had a name and knew how to bake. That's because it inherited those skills from its base / parent class."
   ]
  },
  {
   "cell_type": "markdown",
   "metadata": {},
   "source": [
    "What if we want to modify the `__init__()` method?"
   ]
  },
  {
   "cell_type": "code",
   "execution_count": null,
   "metadata": {},
   "outputs": [],
   "source": [
    "class PastryChef(Baker):\n",
    "    def __init__(self, name):\n",
    "        super().__init__(name)\n",
    "        print(\"Pastries Rock!\")"
   ]
  },
  {
   "cell_type": "markdown",
   "metadata": {},
   "source": [
    "OK what happened here? Why are there two ``__init__()``s? When we define the child class initialization, we must tell it to first intialize what has to be initialized in the parent class. Then it can perform other things, in this case, print a message."
   ]
  },
  {
   "cell_type": "code",
   "execution_count": null,
   "metadata": {},
   "outputs": [],
   "source": [
    "cerise = PastryChef(\"Cerise\")"
   ]
  },
  {
   "cell_type": "markdown",
   "metadata": {},
   "source": [
    "We can also add methods specific to pastry chefs:"
   ]
  },
  {
   "cell_type": "code",
   "execution_count": null,
   "metadata": {},
   "outputs": [],
   "source": [
    "class PastryChef(Baker):\n",
    "    def __init__(self, name):\n",
    "        super().__init__(name)\n",
    "    \n",
    "    def create_recipe(self):\n",
    "        print(\"Your recipe is...\")"
   ]
  },
  {
   "cell_type": "markdown",
   "metadata": {},
   "source": [
    "Note that while Pastry chefs can create a recipe, bakers can't:"
   ]
  },
  {
   "cell_type": "code",
   "execution_count": null,
   "metadata": {},
   "outputs": [],
   "source": [
    "cerise = PastryChef(\"Cerise\")\n",
    "cerise.create_recipe()"
   ]
  },
  {
   "cell_type": "code",
   "execution_count": null,
   "metadata": {},
   "outputs": [],
   "source": [
    "claire.create_recipe()"
   ]
  },
  {
   "cell_type": "markdown",
   "metadata": {},
   "source": [
    "We can also have head chefs that can do everything a Pastry chef can (this is not true in real life, it's just an example):"
   ]
  },
  {
   "cell_type": "code",
   "execution_count": null,
   "metadata": {},
   "outputs": [],
   "source": [
    "class HeadChef(PastryChef):\n",
    "    pass"
   ]
  },
  {
   "cell_type": "code",
   "execution_count": null,
   "metadata": {},
   "outputs": [],
   "source": [
    "cerise = HeadChef(\"Cerise\")\n",
    "print(type(cerise))\n",
    "cerise.bake(\"velvet\")\n",
    "cerise.create_recipe()"
   ]
  },
  {
   "cell_type": "markdown",
   "metadata": {},
   "source": [
    "Notice how in terms of class inheritance a HeadChef class is the \"granddaughter\" of a Baker class. This seems \"backward\" with respect to our hierarchy tree image. So pay special attention when designing inheritance classes."
   ]
  },
  {
   "cell_type": "markdown",
   "metadata": {},
   "source": [
    "OK, now what if we have a confectioner, and pastry chefs can also do what those can? Enter **Multiple Inheritance**."
   ]
  },
  {
   "cell_type": "code",
   "execution_count": null,
   "metadata": {},
   "outputs": [],
   "source": [
    "class Confectioner():\n",
    "    def confection(self):\n",
    "        print(\"I have confectioned ... I think?\")"
   ]
  },
  {
   "cell_type": "code",
   "execution_count": null,
   "metadata": {},
   "outputs": [],
   "source": [
    "class PastryChef(Baker, Confectioner):\n",
    "    pass"
   ]
  },
  {
   "cell_type": "code",
   "execution_count": null,
   "metadata": {},
   "outputs": [],
   "source": [
    "claire = Baker(\"Claire\")\n",
    "chuck = Confectioner()\n",
    "cerise = PastryChef(\"Cerise\")"
   ]
  },
  {
   "cell_type": "code",
   "execution_count": null,
   "metadata": {},
   "outputs": [],
   "source": [
    "claire.bake(\"velvet\")"
   ]
  },
  {
   "cell_type": "code",
   "execution_count": null,
   "metadata": {},
   "outputs": [],
   "source": [
    "claire.confection()"
   ]
  },
  {
   "cell_type": "code",
   "execution_count": null,
   "metadata": {},
   "outputs": [],
   "source": [
    "chuck.confection()"
   ]
  },
  {
   "cell_type": "code",
   "execution_count": null,
   "metadata": {},
   "outputs": [],
   "source": [
    "chuck.bake(\"velvet\")"
   ]
  },
  {
   "cell_type": "code",
   "execution_count": null,
   "metadata": {},
   "outputs": [],
   "source": [
    "cerise.bake(\"velvet\")"
   ]
  },
  {
   "cell_type": "code",
   "execution_count": null,
   "metadata": {},
   "outputs": [],
   "source": [
    "cerise.confection()"
   ]
  },
  {
   "cell_type": "markdown",
   "metadata": {},
   "source": [
    "Inheritance and multiple inheritance are extremely useful, so while we can't continue further, I encourage you to learn more and practice them in your own projects!"
   ]
  }
 ],
 "metadata": {
  "kernelspec": {
   "display_name": "base",
   "language": "python",
   "name": "python3"
  },
  "language_info": {
   "codemirror_mode": {
    "name": "ipython",
    "version": 3
   },
   "file_extension": ".py",
   "mimetype": "text/x-python",
   "name": "python",
   "nbconvert_exporter": "python",
   "pygments_lexer": "ipython3",
   "version": "3.11.5"
  }
 },
 "nbformat": 4,
 "nbformat_minor": 2
}
