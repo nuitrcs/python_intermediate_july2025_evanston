{
 "cells": [
  {
   "cell_type": "markdown",
   "metadata": {},
   "source": [
    "<hr style = \"color:red\"/>\n",
    "\n",
    "**<span style = \"color:red\">EXERCISE 1</span>**"
   ]
  },
  {
   "cell_type": "markdown",
   "metadata": {},
   "source": [
    "Create a class called `Cashier` with one method called `calculate_tax`. It receives one input, a number, and it returns $10\\%$ of that value."
   ]
  },
  {
   "cell_type": "code",
   "execution_count": 3,
   "metadata": {},
   "outputs": [],
   "source": [
    "class Cashier():\n",
    "    def calculate_tax(self, bill):\n",
    "        tax = .1 * bill\n",
    "        return tax"
   ]
  },
  {
   "cell_type": "code",
   "execution_count": null,
   "metadata": {},
   "outputs": [],
   "source": [
    "# Let's test it\n",
    "cashier = Cashier()\n",
    "cashier.calculate_tax(25)"
   ]
  },
  {
   "cell_type": "markdown",
   "metadata": {},
   "source": [
    "<hr style = \"color:red\"/>\n",
    "\n",
    "**<span style = \"color:red\">EXERCISE 2</span>**"
   ]
  },
  {
   "cell_type": "markdown",
   "metadata": {},
   "source": [
    "Add an `__init__()`method to your cashier class above. It should get two inputs: its name, and its shift. These should be assigned to its attributes `name` and `shift`. Keep the `calculate_tax()` method. Check that you can calculate taxes correctly and you can accesss both attributes."
   ]
  },
  {
   "cell_type": "code",
   "execution_count": 5,
   "metadata": {},
   "outputs": [],
   "source": [
    "class Cashier():\n",
    "    def __init__(self, name, shift):\n",
    "        self.name = name\n",
    "        self.shift = shift\n",
    "\n",
    "    def calculate_tax(self, bill):\n",
    "        tax = .1 * bill\n",
    "        return tax"
   ]
  },
  {
   "cell_type": "code",
   "execution_count": null,
   "metadata": {},
   "outputs": [],
   "source": [
    "# Let's test it\n",
    "cashier = Cashier(\"John E. Cash\", \"Night\")\n",
    "\n",
    "print(f\"tax = {cashier.calculate_tax(42)}\")\n",
    "\n",
    "print(f\"name = {cashier.name}\")\n",
    "\n",
    "print(f\"shift = {cashier.shift}\")"
   ]
  },
  {
   "cell_type": "markdown",
   "metadata": {},
   "source": [
    "<hr style = \"color:red\"/>\n",
    "\n",
    "**<span style = \"color:red\">EXERCISE 3</span>**"
   ]
  },
  {
   "cell_type": "markdown",
   "metadata": {},
   "source": [
    "Go back to your Cashier class. Add a new method called `calculate_total`. It should receive a list of numbers as input, and output the sum of all these numbers.\n",
    "\n",
    "(Optional): Make a method that combines `calculate_total` and `calculate_taxes` and prints a message along the lines of \"Your total with taxes is X\"."
   ]
  },
  {
   "cell_type": "code",
   "execution_count": 7,
   "metadata": {},
   "outputs": [],
   "source": [
    "class Cashier():\n",
    "    def __init__(self, name, shift):\n",
    "        self.name = name\n",
    "        self.shift = shift\n",
    "\n",
    "    def calculate_tax(self, bill):\n",
    "        tax = .1 * bill\n",
    "        return tax\n",
    "    \n",
    "    def calculate_total(self, ordered_food):\n",
    "        # orderred_food is a list of numbers\n",
    "        order_total = sum(ordered_food)\n",
    "        return order_total"
   ]
  },
  {
   "cell_type": "code",
   "execution_count": null,
   "metadata": {},
   "outputs": [],
   "source": [
    "# Let's test it\n",
    "cashier = Cashier(\"John E. Cash\", \"Night\")\n",
    "cashier.calculate_total([1,2,3])"
   ]
  },
  {
   "cell_type": "code",
   "execution_count": 11,
   "metadata": {},
   "outputs": [],
   "source": [
    "# Let's do the optional also:\n",
    "class Cashier():\n",
    "    def __init__(self, name, shift):\n",
    "        self.name = name\n",
    "        self.shift = shift\n",
    "\n",
    "    def calculate_tax(self, bill):\n",
    "        tax = .1 * bill\n",
    "        return tax\n",
    "    \n",
    "    def calculate_total(self, ordered_food):\n",
    "        # orderred_food is a list of numbers\n",
    "        order_total = sum(ordered_food)\n",
    "        return order_total\n",
    "    \n",
    "    def checkout(self, ordered_food):\n",
    "        order_total = self.calculate_total(ordered_food)\n",
    "        tax = self.calculate_tax(order_total)\n",
    "        real_total = order_total + tax\n",
    "        return real_total"
   ]
  },
  {
   "cell_type": "code",
   "execution_count": null,
   "metadata": {},
   "outputs": [],
   "source": [
    "# Let's test it\n",
    "cashier = Cashier(\"John E. Cash\", \"Night\")\n",
    "cashier.checkout([1,2,3])"
   ]
  },
  {
   "cell_type": "markdown",
   "metadata": {},
   "source": [
    "<hr style = \"color:red\"/>\n",
    "\n",
    "**<span style = \"color:red\">EXERCISE 4</span>**"
   ]
  },
  {
   "cell_type": "markdown",
   "metadata": {},
   "source": [
    "Let's go back to your Cashier class.\n",
    "- Add a class attribute called `menu`. It is a dictionary which has a couple of items of your choice and their prices.\n",
    "- Add an instance attribute called `menu_order`. It is an empty list.\n",
    "- Add a method called `add_item` that takes as input an item from the menu and adds it to the `menu_order`.\n",
    "- Finally, add a method called `checkout` that calculates the total in the menu order, computes and adds the tax, and prints out the result."
   ]
  },
  {
   "cell_type": "code",
   "execution_count": 16,
   "metadata": {},
   "outputs": [],
   "source": [
    "class Cashier():\n",
    "    menu = {                                                   # <-- Adding class attribute menu.\n",
    "        \"Salad\": 10,\n",
    "        \"Sushi\": 15,\n",
    "        \"Sandwich\": 14\n",
    "    }\n",
    "\n",
    "    def __init__(self, name, shift):\n",
    "        self.name = name\n",
    "        self.shift = shift\n",
    "        self.menu_order = []                                   # <-- Adding instance attribute menu_order. starts as an empty list\n",
    "\n",
    "    def calculate_tax(self, bill):\n",
    "        tax = .1 * bill\n",
    "        return tax\n",
    "    \n",
    "    def calculate_total(self, ordered_food):\n",
    "        order_total = sum(ordered_food)\n",
    "        return order_total\n",
    "    \n",
    "    def add_item(self, menu_item):\n",
    "        # we expect menu_item to be one of: Salad, Sushi, Sandwich\n",
    "        item_price = self.menu[menu_item]                      # <-- Getting the price from the menu\n",
    "        self.menu_order.append(item_price)                     # <-- Adding price to the menu order list\n",
    "        return\n",
    "    \n",
    "    def checkout(self):\n",
    "        total_order = self.calculate_total(self.menu_order)    # <-- calculate total of what is in menu order\n",
    "        tax = self.calculate_tax(total_order)                  # <-- Get tax\n",
    "        print(f\"You must pay: {total_order + tax}\")\n"
   ]
  },
  {
   "cell_type": "code",
   "execution_count": 17,
   "metadata": {},
   "outputs": [],
   "source": [
    "cashier = Cashier(\"John E. Cash\", \"Night\")"
   ]
  },
  {
   "cell_type": "code",
   "execution_count": 18,
   "metadata": {},
   "outputs": [],
   "source": [
    "# Add items to the order:\n",
    "\n",
    "cashier.add_item(\"Salad\")\n",
    "cashier.add_item(\"Salad\")\n",
    "cashier.add_item(\"Sushi\")\n",
    "cashier.add_item(\"Sandwich\")\n",
    "\n",
    "# 2 salads, 1 sushi, 1 sandwich, the total should be: 10 + 10 + 15 + 14 = 49\n",
    "# taxes would be 4.9, so our bill is 49 + 4.9 = 53.9"
   ]
  },
  {
   "cell_type": "code",
   "execution_count": null,
   "metadata": {},
   "outputs": [],
   "source": [
    "# Let's test it!\n",
    "cashier.checkout()"
   ]
  },
  {
   "cell_type": "markdown",
   "metadata": {},
   "source": [
    "<hr style = \"color:red\"/>"
   ]
  }
 ],
 "metadata": {
  "kernelspec": {
   "display_name": "base",
   "language": "python",
   "name": "python3"
  },
  "language_info": {
   "codemirror_mode": {
    "name": "ipython",
    "version": 3
   },
   "file_extension": ".py",
   "mimetype": "text/x-python",
   "name": "python",
   "nbconvert_exporter": "python",
   "pygments_lexer": "ipython3",
   "version": "3.11.5"
  }
 },
 "nbformat": 4,
 "nbformat_minor": 2
}
