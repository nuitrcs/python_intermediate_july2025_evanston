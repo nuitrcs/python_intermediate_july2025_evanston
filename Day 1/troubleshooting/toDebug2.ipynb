{
 "cells": [
  {
   "cell_type": "markdown",
   "id": "f0cae9f8-5f2c-4a29-8d12-50b120a4ae3c",
   "metadata": {},
   "source": [
    "Sheet 1 of the excel file has coded data about animals found in a zoo.\n",
    "<br><br>We want to create a txt file that contains a list of full sentences describing the traits of only the birds in the file.\n",
    "\n",
    "For example, for chicken and crow, we want the line to read:\n",
    "\n",
    "```\n",
    "Traits of a chicken are: feathers, eggs, airbourne, backbone, breathes, tail, domestic.\n",
    "Traits of a crow are: feathers, eggs, airbourne, predator, backbone, breathes, tail.\n",
    "```\n",
    "\n",
    "We know that these are relevant traits because the value for these columns is 1."
   ]
  },
  {
   "cell_type": "code",
   "execution_count": null,
   "id": "7b0135d5-c999-489a-afb3-a7d27d605874",
   "metadata": {},
   "outputs": [],
   "source": [
    "import pandas as pd"
   ]
  },
  {
   "cell_type": "code",
   "execution_count": null,
   "id": "52e34108-0e7f-47ff-a5a2-f251551becb3",
   "metadata": {},
   "outputs": [],
   "source": [
    "filename = \"zoo.xlsx\"\n",
    "output = \"birds.txt\""
   ]
  },
  {
   "cell_type": "code",
   "execution_count": null,
   "id": "fa7b9510-d5e6-4e9d-a315-9aee2c1fb449",
   "metadata": {},
   "outputs": [],
   "source": [
    "def birdFile(infile, outfile):\n",
    "    # read file\n",
    "    df = pd.read_excel(infile, sheet_name=0)\n",
    "    birds_df = df[df[\"type\"] == 2]\n",
    "    \n",
    "    # collect relevant columns\n",
    "    cols = []\n",
    "    for col in birds_df.columns():\n",
    "        if col not in [\"animal\", \"type\"]:\n",
    "            cols.append(col)\n",
    "    \n",
    "    # save list of traits relevant for each bird\n",
    "    bird_traits_list = []\n",
    "    for index, row in birds_df.iterrows(): # iterate through rows\n",
    "        bird = row.animals\n",
    "        bird_trait_list_temp = [bird] # initialize trait list with bird name\n",
    "        for col, value in row.items(): # go through each column and value in the row\n",
    "            if value == 1 and col in cols:\n",
    "                bird_trait_list_temp.append(col)\n",
    "        bird_traits_list.append(bird_trait_list_temp)\n",
    "    \n",
    "    # write to file\n",
    "    with open(outfile, \"w\") as f:\n",
    "        for row in bird_traits_list:\n",
    "            string = \", \".join(row)\n",
    "            f.write(f\"Traits of a {row[0]} are: {string}.\\n\")\n"
   ]
  },
  {
   "cell_type": "code",
   "execution_count": null,
   "id": "3146538b-32b5-45ba-b619-dc0a5781d636",
   "metadata": {},
   "outputs": [],
   "source": [
    "birdFile(filename, output)"
   ]
  },
  {
   "cell_type": "code",
   "execution_count": null,
   "id": "9547afc4",
   "metadata": {},
   "outputs": [],
   "source": []
  }
 ],
 "metadata": {
  "kernelspec": {
   "display_name": "py-intermediate",
   "language": "python",
   "name": "python3"
  },
  "language_info": {
   "codemirror_mode": {
    "name": "ipython",
    "version": 3
   },
   "file_extension": ".py",
   "mimetype": "text/x-python",
   "name": "python",
   "nbconvert_exporter": "python",
   "pygments_lexer": "ipython3",
   "version": "3.13.5"
  }
 },
 "nbformat": 4,
 "nbformat_minor": 5
}
