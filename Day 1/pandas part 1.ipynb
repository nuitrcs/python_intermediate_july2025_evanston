{
 "cells": [
  {
   "cell_type": "markdown",
   "id": "59a2d3de-f2c0-4afe-a54a-5e294d266273",
   "metadata": {},
   "source": [
    "# pandas"
   ]
  },
  {
   "cell_type": "markdown",
   "id": "e7f4b330-9e0a-4ad5-98b4-e54bebd3a3d7",
   "metadata": {},
   "source": [
    "Pandas is:\n",
    "\n",
    "- one of the most commonly used Python packages/libraries/modules for data science.\n",
    "- Python's answer for making two dimensional tables (ala Excel and SQL).\n",
    "- calls a table a \"DataFrame\".\n",
    "- Pandas DataFrames are used by Python's other packages for statistical analysis, data manipulation, and data visualization.\n",
    "- Pandas DataFrames can be exported as .csv and other files."
   ]
  },
  {
   "cell_type": "markdown",
   "id": "2d00bfc0-4a81-47d9-ab3a-a25a1fe60aaa",
   "metadata": {},
   "source": [
    "Some of the pandas syntax will differ from basic Python. I still have to look a lot of things up in pandas, if it's something I don't do very often. However, it is the tool for working with spreadsheets in Python, so you'll need to learn it at some point.<br><br>"
   ]
  },
  {
   "cell_type": "markdown",
   "id": "3a2d4bf7-cc0c-401e-8d7f-0991ff5e7a85",
   "metadata": {},
   "source": [
    "#### <br>Why do we work with Jupyter Notebooks for data science?"
   ]
  },
  {
   "cell_type": "markdown",
   "id": "033b772e-5946-432b-aa51-9d501b3e7758",
   "metadata": {},
   "source": [
    "Jupyter Notebooks allow us to view nicely formatted output (such as pandas DataFrames and data visualizations) directly below the code used to create the object. They also allow you to scroll through large DataFrames or images."
   ]
  },
  {
   "cell_type": "markdown",
   "id": "b0c1dbbb-5312-4cf1-bb75-82774efc3190",
   "metadata": {
    "jp-MarkdownHeadingCollapsed": true
   },
   "source": [
    "#### <br>NumPy arrays\n",
    "This notebook is going to focus on the Python package Pandas. However, Pandas (and many other Python packages) are built on NumPy arrays. NumPy is another Python module, and NumPy arrays are multi-dimensional datasets made up entirely of numerical data. They allow for much faster calculations than other basic Python objects. If you work with large numerical datasets, you will also want to look into the NumPy package. NumPy arrays do not have the features that many of us want to work with, such as column headers and the ability to work with non-numerical data; that's why pandas is so popular."
   ]
  },
  {
   "cell_type": "markdown",
   "id": "9b726cf1-7ef4-4530-ad63-374715e48b0c",
   "metadata": {},
   "source": [
    "# <br><br><br>1.0 Part One: pandas and the DataFrame object"
   ]
  },
  {
   "cell_type": "markdown",
   "id": "9ad884ea-ad49-444c-8f55-b3589d58053c",
   "metadata": {},
   "source": [
    "#### First, where are the files we are working with today?"
   ]
  },
  {
   "cell_type": "markdown",
   "id": "79718441-3bcb-472c-a4c7-036ddfde025d",
   "metadata": {},
   "source": [
    "**If you are working on the cloud (for example Google Colab):** You will need to first run the line of code below. It will pull the files into your workspace. "
   ]
  },
  {
   "cell_type": "code",
   "execution_count": null,
   "id": "9a46bce5-8d87-4b71-bec6-10c3a1f4e2b8",
   "metadata": {},
   "outputs": [],
   "source": [
    "!wget https://raw.githubusercontent.com/nuitrcs/python_workshops_datarepo/refs/heads/main/forestfires.csv\n",
    "!wget https://raw.githubusercontent.com/nuitrcs/python_workshops_datarepo/refs/heads/main/pigeonRacing.txt\n",
    "!wget https://raw.githubusercontent.com/nuitrcs/python_workshops_datarepo/refs/heads/main/zoo.xlsx"
   ]
  },
  {
   "cell_type": "markdown",
   "id": "5fe98491-fe70-480a-8f71-4a58a7404e07",
   "metadata": {},
   "source": [
    "The files should now appear in your filetree in the same directory where this notebook is located. You should see them in your filetree. Look for `forestfires.csv` and `pigeonRacing.txt`.\n",
    "<br><br>**If you are working locally on your own computer:** The files are here in the same repo and folder where this notebook is located. You should see them in your filetree. Look for `forestfires` and `pigeonRacing.txt`."
   ]
  },
  {
   "cell_type": "markdown",
   "id": "cf83b2a9-28b9-44f0-9ae1-1dd9367d7162",
   "metadata": {},
   "source": [
    "## <br><br><br>1.0 Importing pandas"
   ]
  },
  {
   "cell_type": "markdown",
   "id": "0b493b70-6ed7-4af4-bea4-1effec56e603",
   "metadata": {},
   "source": [
    "Because pandas is one of the most commonly used Python packages, it often gets imported as a shortened version of it's actual name. This makes it quicker to type."
   ]
  },
  {
   "cell_type": "code",
   "execution_count": null,
   "id": "1b96aee5-766e-4ace-b7c1-21ba17809d98",
   "metadata": {},
   "outputs": [],
   "source": [
    "import pandas as pd"
   ]
  },
  {
   "cell_type": "markdown",
   "id": "30cbe666",
   "metadata": {},
   "source": [
    "If you encounter an error, it may be because the Pandas package has not been installed yet. You can install by uncommenting and running the following code:"
   ]
  },
  {
   "cell_type": "code",
   "execution_count": null,
   "id": "da66ab42",
   "metadata": {},
   "outputs": [],
   "source": [
    "# uncomment the following line to install pandas\n",
    "# !pip install pandas"
   ]
  },
  {
   "cell_type": "markdown",
   "id": "7caeb892-3b60-42d3-a172-832db988e604",
   "metadata": {},
   "source": [
    "Pandas comes with the Anaconda distribution of Python and is available on Google Colab."
   ]
  },
  {
   "cell_type": "markdown",
   "id": "9f96ae15-96b4-4c36-b9d8-50dd5d155592",
   "metadata": {},
   "source": [
    "We also want to check that our pandas version is one of the newer versions so that we are all working with the same commands."
   ]
  },
  {
   "cell_type": "code",
   "execution_count": null,
   "id": "3f16d1bc-491e-45b0-8a9f-e70481163205",
   "metadata": {},
   "outputs": [],
   "source": [
    "pd.__version__"
   ]
  },
  {
   "cell_type": "markdown",
   "id": "173668c1-3a08-4882-86dc-a770194f9454",
   "metadata": {},
   "source": [
    "**If your version starts with a 1 instead of a 2 for that very first number,** you can uncomment the following cell, then run the cell to upgrade your Python to a newer version."
   ]
  },
  {
   "cell_type": "code",
   "execution_count": null,
   "id": "acc066e1-b8cc-4946-aa1a-aed83d860d70",
   "metadata": {},
   "outputs": [],
   "source": [
    "# uncomment the following line to upgrade pandas\n",
    "# !pip install pandas --upgrade"
   ]
  },
  {
   "cell_type": "markdown",
   "id": "3bee105d-c718-4ee8-95a8-77d8b98eb19e",
   "metadata": {},
   "source": [
    "## <br><br><br>1.1 Loading a csv file"
   ]
  },
  {
   "cell_type": "markdown",
   "id": "b2f470eb-6b9d-4007-a2fa-7cb028d63c7d",
   "metadata": {},
   "source": [
    "We will use the function `pd.read_csv()`. As a reminder, when we use a function from an imported module, we first give the module's name, followed by a dot, followed by the function name.\n",
    "<br><br>This will automatically create a **DataFrame** object, which we are saving as `df`. `df` is a common variable name for a DataFrame. You can open the file, define it as a Pandas DataFrame, assign it to a variable, and close the file in one line. (Already we're seeing the differences from basic Python)."
   ]
  },
  {
   "cell_type": "code",
   "execution_count": null,
   "id": "6ed11452-979d-4d67-853e-e1cacd5baf89",
   "metadata": {},
   "outputs": [],
   "source": [
    "df = pd.read_csv(\"forestfires.csv\")"
   ]
  },
  {
   "cell_type": "markdown",
   "id": "24a951d8-3cf0-4555-a650-d1b302127ee5",
   "metadata": {},
   "source": [
    "This is a dataset from forest fires in NE Portugal. I have included the dataset as a csv file in today's materials, but the data is available publicly at this site: https://archive.ics.uci.edu/ml/datasets/Forest+Fires"
   ]
  },
  {
   "cell_type": "markdown",
   "id": "3abad5eb-2de4-4ed2-8285-6d0d62ec704b",
   "metadata": {},
   "source": [
    "## <br><br><br>1.2 Viewing the DataFrame"
   ]
  },
  {
   "cell_type": "code",
   "execution_count": null,
   "id": "169f37f5-fc47-40d6-82c8-323eac82f60a",
   "metadata": {},
   "outputs": [],
   "source": [
    "df"
   ]
  },
  {
   "cell_type": "markdown",
   "id": "ada87b22-8011-4e98-b349-74d7892cd475",
   "metadata": {},
   "source": [
    "<br>Take a minute to look at the data. The DataFrame will have a slightly different look on Colab and Jupyter, and on different versions of Jupyter.\n",
    "<br><br>The number at the beginning of each row is called an **index**. The index was automatically assigned by pandas when the dataset was loaded. It was not in the original csv file. It is merely a series of consecutive numbers going down the rows. The rows were loaded in whatever order they were in the csv file."
   ]
  },
  {
   "cell_type": "markdown",
   "id": "139e5c60-4bd8-4a6a-a708-c1a2d22ad0e3",
   "metadata": {},
   "source": [
    "If you are working in Google Colab, there is a new feature that lets you magically convert your DataFrame into an interactive table. We're NOT going to use that feature, though you can feel free to explore it on your own time. "
   ]
  },
  {
   "cell_type": "markdown",
   "id": "ce6250f6-0a60-4fdc-9e65-195d6d43e288",
   "metadata": {},
   "source": [
    "Let's discuss the columns together so we understand the dataset a bit more."
   ]
  },
  {
   "cell_type": "markdown",
   "id": "15ffe23c-6090-4253-8136-db80aabfc9da",
   "metadata": {},
   "source": [
    "<br><br>There are ways to view pieces of the DataFrame. Try these to see what they do:"
   ]
  },
  {
   "cell_type": "code",
   "execution_count": null,
   "id": "21b419ef-4fd1-42b2-8033-e0609b240f78",
   "metadata": {},
   "outputs": [],
   "source": [
    "df.head()"
   ]
  },
  {
   "cell_type": "code",
   "execution_count": null,
   "id": "d06549f4-9340-4f19-bc15-bdf5eaa9da8b",
   "metadata": {},
   "outputs": [],
   "source": [
    "df.head(10)"
   ]
  },
  {
   "cell_type": "code",
   "execution_count": null,
   "id": "848ea7e2-dbc2-43e3-a879-1864bc5bce05",
   "metadata": {},
   "outputs": [],
   "source": [
    "df.tail()"
   ]
  },
  {
   "cell_type": "code",
   "execution_count": null,
   "id": "5f99ffae-91cb-47dc-8fb1-e0d01c026c7a",
   "metadata": {},
   "outputs": [],
   "source": [
    "df.tail(2)"
   ]
  },
  {
   "cell_type": "code",
   "execution_count": null,
   "id": "e3c93e9c-262c-44b1-9666-96ec5c4407e5",
   "metadata": {},
   "outputs": [],
   "source": [
    "df.sample()"
   ]
  },
  {
   "cell_type": "code",
   "execution_count": null,
   "id": "5959de80-7806-4c3c-b974-1941c4c875d3",
   "metadata": {},
   "outputs": [],
   "source": [
    "df.sample(6)"
   ]
  },
  {
   "cell_type": "markdown",
   "id": "7804e54b-201f-47e4-9207-053aee88be97",
   "metadata": {},
   "source": [
    "## <br><br><br>1.3 Loading other types of files"
   ]
  },
  {
   "cell_type": "markdown",
   "id": "0559c0d4-8019-441a-985b-2c00dc293254",
   "metadata": {},
   "source": [
    "We can open a tab-separated file using the same function we used to open a csv. We just have to pass a second argument, a **keyword argument**, to tell it that the delimiter is a tab instead of the default (comma). This dataset contains rankings of profressional racing pigeons."
   ]
  },
  {
   "cell_type": "code",
   "execution_count": null,
   "id": "702d1bf6-ab06-4840-b454-109c84348cea",
   "metadata": {},
   "outputs": [],
   "source": [
    "pigeon_df = pd.read_csv(\"pigeonRacing.txt\", delimiter=\"\\t\")"
   ]
  },
  {
   "cell_type": "code",
   "execution_count": null,
   "id": "d7c0f42d-0e34-40e5-8338-b326095ee00e",
   "metadata": {},
   "outputs": [],
   "source": [
    "pigeon_df.head()"
   ]
  },
  {
   "cell_type": "markdown",
   "id": "8837778b-8e96-42ab-9279-5e75bceb199c",
   "metadata": {},
   "source": [
    "<br><br>We will use a different function to open an Excel file. This file has information about animals and has two sheets within the excel file. We will first load sheet 1 and then sheet 2. We have to pass the `read_excel()` function one extra argument to specify the sheet:"
   ]
  },
  {
   "cell_type": "code",
   "execution_count": null,
   "id": "7c158d46-2f49-483d-8a62-e14f20b0a6c7",
   "metadata": {},
   "outputs": [],
   "source": [
    "zoo_df = pd.read_excel(\"zoo.xlsx\", sheet_name=0)"
   ]
  },
  {
   "cell_type": "markdown",
   "id": "5d128cc8",
   "metadata": {},
   "source": [
    "If you run in to an error, you may not have `openpyxl` package installed, which is a dependency of `pandas`. Uncomment and run the following code to install the package and run the cell above again."
   ]
  },
  {
   "cell_type": "code",
   "execution_count": null,
   "id": "cd4c2fe7",
   "metadata": {},
   "outputs": [],
   "source": [
    "# uncomment the following line to install openpyxl\n",
    "# !pip install openpyxl"
   ]
  },
  {
   "cell_type": "code",
   "execution_count": null,
   "id": "f9cdf71f-c051-42db-8d35-b301ebdaf1f8",
   "metadata": {},
   "outputs": [],
   "source": [
    "zoo_df.head()"
   ]
  },
  {
   "cell_type": "code",
   "execution_count": null,
   "id": "cf493098-de3d-48e9-b9f8-5d2c5fc99a79",
   "metadata": {},
   "outputs": [],
   "source": [
    "zoo_class_df = pd.read_excel(\"zoo.xlsx\", sheet_name=1)"
   ]
  },
  {
   "cell_type": "code",
   "execution_count": null,
   "id": "a614aa41-3e12-457a-9f65-584a3b98b0ab",
   "metadata": {},
   "outputs": [],
   "source": [
    "zoo_class_df.head()"
   ]
  },
  {
   "cell_type": "markdown",
   "id": "f5f6c568-a611-4bb1-b36c-11244906b5ca",
   "metadata": {},
   "source": [
    "## <br><br><br>1.4 Getting basic info about the DataFrame"
   ]
  },
  {
   "cell_type": "markdown",
   "id": "3ca39c8b-4b2f-4baf-90d6-b45b5c6bd4c0",
   "metadata": {},
   "source": [
    "You can use the `len()` function to find out how many rows are in a DataFrame object:"
   ]
  },
  {
   "cell_type": "code",
   "execution_count": null,
   "id": "47e27d66-48b1-4e0c-99f7-69d1e9755aa5",
   "metadata": {},
   "outputs": [],
   "source": [
    "len(df)"
   ]
  },
  {
   "cell_type": "markdown",
   "id": "d0b5146c-77eb-4923-84c3-0d771fddbbdd",
   "metadata": {},
   "source": [
    "<br>The `describe()` method will give you some very basic stats about each column in your DataFrame:"
   ]
  },
  {
   "cell_type": "code",
   "execution_count": null,
   "id": "ee1b17d4-81d4-42f1-b584-18e49361ce8d",
   "metadata": {},
   "outputs": [],
   "source": [
    "df.describe()"
   ]
  },
  {
   "cell_type": "markdown",
   "id": "d0772ca9-9784-4ea2-8b79-33bfc23efe1c",
   "metadata": {},
   "source": [
    "<br>The `shape` attribute will return the number of rows and columns as a tuple. An attribute gives us some stored data about an object - it is not a method function, so it does not get parentheses."
   ]
  },
  {
   "cell_type": "code",
   "execution_count": null,
   "id": "3c198928-2fd2-41ab-9f50-01bd57347c62",
   "metadata": {},
   "outputs": [],
   "source": [
    "df.shape"
   ]
  },
  {
   "cell_type": "markdown",
   "id": "4df6da40-ca29-437b-8d15-4a91e95e92b6",
   "metadata": {},
   "source": [
    "You can even save the shape tuple as an object, in case you need to include it in any code:"
   ]
  },
  {
   "cell_type": "code",
   "execution_count": null,
   "id": "ef080b39-916d-49ab-8e4e-c8f46c9504bb",
   "metadata": {},
   "outputs": [],
   "source": [
    "df_shape = df.shape"
   ]
  },
  {
   "cell_type": "code",
   "execution_count": null,
   "id": "24546350-5e1f-4b44-a7b3-c86b8a99244b",
   "metadata": {},
   "outputs": [],
   "source": [
    "print(\"Our DataFrame has \" + str(df_shape[0]) + \" rows and \" + str(df_shape[1]) + \" columns.\")"
   ]
  },
  {
   "cell_type": "markdown",
   "id": "1678f7ec-7f18-42ce-8fd6-033afd48b6c5",
   "metadata": {},
   "source": [
    "<br>The `size` attribute will tell you the total number of elements in the DataFrame (size = rows x columns):"
   ]
  },
  {
   "cell_type": "code",
   "execution_count": null,
   "id": "42785a65-750e-41ad-b7ec-316a08d92f84",
   "metadata": {},
   "outputs": [],
   "source": [
    "df.size"
   ]
  },
  {
   "cell_type": "markdown",
   "id": "e0d18135-10e0-4b80-b033-8bcb7893492c",
   "metadata": {},
   "source": [
    "<br>To return a list of the column names, you can start with the `columns` attribute:"
   ]
  },
  {
   "cell_type": "code",
   "execution_count": null,
   "id": "f76d1e85-ec06-4a20-a880-e7c7ef6ec31d",
   "metadata": {},
   "outputs": [],
   "source": [
    "df.columns"
   ]
  },
  {
   "cell_type": "markdown",
   "id": "d8f1c8cb-d4f3-497b-b2f7-0322ef672caf",
   "metadata": {},
   "source": [
    "Hmm. That looks strange because it is a pandas object. You can make it into a list so that it is easier to work with:"
   ]
  },
  {
   "cell_type": "code",
   "execution_count": null,
   "id": "816c7e65-6a5b-4a1a-9abb-0b9074712016",
   "metadata": {},
   "outputs": [],
   "source": [
    "column_names = list(df.columns)\n",
    "print(column_names)"
   ]
  },
  {
   "cell_type": "markdown",
   "id": "76131bc7-fd7a-4ca1-ad54-2cfd48a801d9",
   "metadata": {},
   "source": [
    "<br>To find out the data types of the data found in each column, use the `dtypes` attribute:"
   ]
  },
  {
   "cell_type": "code",
   "execution_count": null,
   "id": "29e11ace-5786-4240-ac4c-695c8cdd0aa0",
   "metadata": {},
   "outputs": [],
   "source": [
    "df.dtypes"
   ]
  },
  {
   "cell_type": "markdown",
   "id": "3530ea42-09cd-454a-ab02-ddc8c2ffd7f7",
   "metadata": {},
   "source": [
    "*Notice how strings are represented in the data types.*"
   ]
  },
  {
   "cell_type": "markdown",
   "id": "9a727130-0d81-4959-b88d-a2b0509252d7",
   "metadata": {},
   "source": [
    "<br>To **transpose** a DataFrame (swap the rows and columns), you also use an attribute. Let's transpose `zoo_df`:"
   ]
  },
  {
   "cell_type": "code",
   "execution_count": null,
   "id": "f4785770-ec65-4901-b948-a17b4291d727",
   "metadata": {},
   "outputs": [],
   "source": [
    "zoo_df.T"
   ]
  },
  {
   "cell_type": "markdown",
   "id": "53ed919c-2376-461d-bd6d-2a53b1f80c55",
   "metadata": {},
   "source": [
    "<br>Let's see if that changed our DataFrame object:"
   ]
  },
  {
   "cell_type": "code",
   "execution_count": null,
   "id": "e21da875-ab56-4734-9d50-7d5f497f0f97",
   "metadata": {},
   "outputs": [],
   "source": [
    "zoo_df"
   ]
  },
  {
   "cell_type": "code",
   "execution_count": null,
   "id": "b63fdd7d-62a9-4a3f-9d36-1c74911ccc0c",
   "metadata": {},
   "outputs": [],
   "source": [
    "zoo_df_t = zoo_df.T\n",
    "zoo_df_t"
   ]
  },
  {
   "cell_type": "markdown",
   "id": "0937b97b-0076-485c-acca-8e05fc541051",
   "metadata": {},
   "source": [
    "### <br><br>Exercise 1.4"
   ]
  },
  {
   "cell_type": "markdown",
   "id": "0e36cb80-e4a1-4b1c-91f2-da0785deccbb",
   "metadata": {},
   "source": [
    "Write code to create a list of column names from `zoo_df`:"
   ]
  },
  {
   "cell_type": "code",
   "execution_count": null,
   "id": "21c02665-e5d1-4b40-8766-67f6685e8302",
   "metadata": {},
   "outputs": [],
   "source": []
  },
  {
   "cell_type": "markdown",
   "id": "986a65d3-7135-443c-a3ae-de17cbdb700a",
   "metadata": {},
   "source": [
    "Write code to return the data type for each column in `zoo_df`:"
   ]
  },
  {
   "cell_type": "code",
   "execution_count": null,
   "id": "7b051b1c-d698-4722-bc96-19d12cf1d2aa",
   "metadata": {},
   "outputs": [],
   "source": []
  },
  {
   "cell_type": "markdown",
   "id": "64329a78-1917-42ca-ba75-c7158a3d3d79",
   "metadata": {},
   "source": [
    "Write code to return two random rows from `zoo_df`."
   ]
  },
  {
   "cell_type": "code",
   "execution_count": null,
   "id": "93967229-d3e6-439f-a71e-9fdfa283f23f",
   "metadata": {},
   "outputs": [],
   "source": []
  },
  {
   "cell_type": "markdown",
   "id": "168d27a0-89ec-4418-8d40-e70428c868f1",
   "metadata": {},
   "source": [
    "# <br><br><br>2.0 Part Two: manipulating and saving dataframes"
   ]
  },
  {
   "cell_type": "markdown",
   "id": "0dd75a49-a317-4f76-93fa-ed791418f002",
   "metadata": {},
   "source": [
    "## <br>2.1 Renaming columns"
   ]
  },
  {
   "cell_type": "markdown",
   "id": "eb41ccea-3fa4-47d1-9fb7-0f98d8896387",
   "metadata": {},
   "source": [
    "Here's what our column names look like in the forest fire dataset:"
   ]
  },
  {
   "cell_type": "code",
   "execution_count": null,
   "id": "bb89aed2-cb79-449d-92a3-5c636ab75cc4",
   "metadata": {},
   "outputs": [],
   "source": [
    "df.head()"
   ]
  },
  {
   "cell_type": "markdown",
   "id": "c5bf9ecb-9129-4fdd-bcd1-a3be1e0b2c08",
   "metadata": {},
   "source": [
    "Four of the columns end in \"\\_code\". Let's remove that part from the column names. We can use the `rename()` method. We need to pass the function a **dictionary**, with the `key: value` pair being: `old_column_name: new_column_name`"
   ]
  },
  {
   "cell_type": "code",
   "execution_count": null,
   "id": "9c57794e-18aa-480f-a4ab-19adf291a5f7",
   "metadata": {},
   "outputs": [],
   "source": [
    "df.rename(columns = {\"moisture_code\": \"moisture\", \n",
    "                     \"fuel_code\": \"fuel\"})"
   ]
  },
  {
   "cell_type": "code",
   "execution_count": null,
   "id": "e9e9ca65-7e7b-4e55-adba-63db788702c6",
   "metadata": {},
   "outputs": [],
   "source": [
    "df.head()"
   ]
  },
  {
   "cell_type": "markdown",
   "id": "5a715596-dbfe-4f71-93b9-5bb5a3345d7c",
   "metadata": {},
   "source": [
    "Uh-oh, the change didn't stick. We've encountered this before with strings, so we know the answer - reassign it to a variable."
   ]
  },
  {
   "cell_type": "code",
   "execution_count": null,
   "id": "f04eb6b2-24b6-4dc7-96d3-70d2e7c4225d",
   "metadata": {},
   "outputs": [],
   "source": [
    "df = df.rename(columns = {\"moisture_code\": \"moisture\", \n",
    "                          \"fuel_code\": \"fuel\"})"
   ]
  },
  {
   "cell_type": "code",
   "execution_count": null,
   "id": "78d2b3dd-836c-4051-9193-ea399d0e786e",
   "metadata": {},
   "outputs": [],
   "source": [
    "df.head()"
   ]
  },
  {
   "cell_type": "markdown",
   "id": "fc677099-ed82-4b4c-8c49-402a5063ddb5",
   "metadata": {},
   "source": [
    "### <br><br>Exercise 2.1"
   ]
  },
  {
   "cell_type": "markdown",
   "id": "894c4bf2-39c8-48c9-b6dd-e6810b0b5e76",
   "metadata": {},
   "source": [
    "Write code to remove \"\\_code\" from the ends of the drought and initial_spread column names:"
   ]
  },
  {
   "cell_type": "code",
   "execution_count": null,
   "id": "33b9c117-ecc7-4b3c-a575-bd2daf416393",
   "metadata": {},
   "outputs": [],
   "source": []
  },
  {
   "cell_type": "code",
   "execution_count": null,
   "id": "70152458-5d5b-4ecd-9f26-83739669422a",
   "metadata": {},
   "outputs": [],
   "source": [
    "df.head()"
   ]
  },
  {
   "cell_type": "markdown",
   "id": "7baa03f6-a060-4976-9f50-49eb6b953c73",
   "metadata": {},
   "source": [
    "## <br><br><br>2.2 Dropping rows and columns"
   ]
  },
  {
   "cell_type": "markdown",
   "id": "e876c8ae-25c8-48d2-98d4-6f487fec4ee4",
   "metadata": {},
   "source": [
    "Let's drop a single row from the DataFrame. How about row 2? You still have to assign `df` to a variable to make the change permanent:"
   ]
  },
  {
   "cell_type": "code",
   "execution_count": null,
   "id": "defbec07-a97d-4548-ad39-746774048247",
   "metadata": {},
   "outputs": [],
   "source": [
    "df = df.drop(2)"
   ]
  },
  {
   "cell_type": "code",
   "execution_count": null,
   "id": "3d522e30-f298-4fab-ab4b-9785c5dbf7aa",
   "metadata": {},
   "outputs": [],
   "source": [
    "df.head()"
   ]
  },
  {
   "cell_type": "markdown",
   "id": "1171da28-9f08-4a02-ac96-af6fc1610103",
   "metadata": {},
   "source": [
    "<br>The index numbers did not reset when we dropped a row. 2 is missing!"
   ]
  },
  {
   "cell_type": "markdown",
   "id": "c2aaa54a-7598-4aea-9dd4-8cd5e6dacd25",
   "metadata": {},
   "source": [
    "We can reset the index and pretend like 2 was never there. The `reset_index()` function takes one keyword argument. If we don't pass the argument, `drop=True`, an extra column will get added to our DataFrame containing the old index numbers. Let's first reset the index without passing the argument, but we won't save that DataFrame:"
   ]
  },
  {
   "cell_type": "code",
   "execution_count": null,
   "id": "f65c983c-395b-4ac9-8564-fe9609613821",
   "metadata": {},
   "outputs": [],
   "source": [
    "df.reset_index()"
   ]
  },
  {
   "cell_type": "markdown",
   "id": "13fe8cd3-9041-417d-b632-b797d8a0ed7f",
   "metadata": {},
   "source": [
    "You can see that new column `index` contains the original index positions. Now let's save a new version of our DataFrame, with the indexes reset, but without that new column:"
   ]
  },
  {
   "cell_type": "code",
   "execution_count": null,
   "id": "0d517aa5-ab5a-420e-8c13-a310f39f1f04",
   "metadata": {},
   "outputs": [],
   "source": [
    "df = df.reset_index(drop=True)"
   ]
  },
  {
   "cell_type": "code",
   "execution_count": null,
   "id": "b40bce33-dd53-46a1-a6f3-6519a7a4133b",
   "metadata": {},
   "outputs": [],
   "source": [
    "df.head()"
   ]
  },
  {
   "cell_type": "markdown",
   "id": "df030b61-d74d-40c5-b3d6-ae0e694fec09",
   "metadata": {},
   "source": [
    "<br><br><br>The `drop()` function defaults to dropping rows. If we want to drop a column, we need to add one more argument. `axis=1` is used in pandas to refer to columns as opposed to rows (`axis=0`). The `axis` argument is used elsewhere in pandas, too. Let's drop the \"X\" column:"
   ]
  },
  {
   "cell_type": "code",
   "execution_count": null,
   "id": "6fcc1508-9008-46a6-91d3-2dbe848470b5",
   "metadata": {},
   "outputs": [],
   "source": [
    "df = df.drop(\"X\", axis=1)"
   ]
  },
  {
   "cell_type": "code",
   "execution_count": null,
   "id": "e8cb7985-1218-4401-bf1e-fd386de0a771",
   "metadata": {},
   "outputs": [],
   "source": [
    "df.head()"
   ]
  },
  {
   "cell_type": "markdown",
   "id": "0b3625a5-845e-4d09-9566-99f322f83727",
   "metadata": {},
   "source": [
    "### <br><br>Exercise 2.2"
   ]
  },
  {
   "cell_type": "markdown",
   "id": "716306e0-9d0b-46cb-a566-6ce66a781e23",
   "metadata": {},
   "source": [
    "Write code to view the last 5 rows of the DataFrame:"
   ]
  },
  {
   "cell_type": "code",
   "execution_count": null,
   "id": "0c63f07d-992f-441d-84ae-d6b4bb76f42e",
   "metadata": {},
   "outputs": [],
   "source": []
  },
  {
   "cell_type": "markdown",
   "id": "c38aa92d-353e-4d8e-8a5a-f35944993b24",
   "metadata": {},
   "source": [
    "Now write code to drop the very last row:"
   ]
  },
  {
   "cell_type": "code",
   "execution_count": null,
   "id": "79e9f14d-9681-4248-948b-b6e34caf503d",
   "metadata": {},
   "outputs": [],
   "source": []
  },
  {
   "cell_type": "code",
   "execution_count": null,
   "id": "b6647f46-f844-4a74-8e4e-aa1d16eededc",
   "metadata": {},
   "outputs": [],
   "source": [
    "df.tail()"
   ]
  },
  {
   "cell_type": "markdown",
   "id": "4293a59e-be10-4524-b9ee-2dd6b58138de",
   "metadata": {},
   "source": [
    "Write code to remove the \"Y\" column:"
   ]
  },
  {
   "cell_type": "code",
   "execution_count": null,
   "id": "3641d627-69ae-4a40-abf2-334bf819bd5f",
   "metadata": {
    "tags": []
   },
   "outputs": [],
   "source": []
  },
  {
   "cell_type": "code",
   "execution_count": null,
   "id": "5ed5c913-5bff-4558-b309-ef998eb33556",
   "metadata": {},
   "outputs": [],
   "source": [
    "df.head()"
   ]
  },
  {
   "cell_type": "markdown",
   "id": "f8dbc605-a055-4157-99ac-e5bdd4a7a795",
   "metadata": {},
   "source": [
    "## <br><br><br>2.3 Sorting a DataFrame"
   ]
  },
  {
   "cell_type": "markdown",
   "id": "2b4ffb1c-4d03-4a68-b383-6ec601264184",
   "metadata": {},
   "source": [
    "There are two methods for sorting your DataFrame."
   ]
  },
  {
   "cell_type": "markdown",
   "id": "251f8011-f582-4787-9de7-a5c24408c640",
   "metadata": {},
   "source": [
    "If you want to sort by the index numbers, or if you want to sort by the column names (alphabetically), you use `sort_index`. It can take two arguments: the axis to sort by (row or column) and the order (ascending or not):"
   ]
  },
  {
   "cell_type": "markdown",
   "id": "1272f1ad-52f4-4a09-b756-a3ab4510f40f",
   "metadata": {},
   "source": [
    "The default arguments are to sort by row index with 0 at the top, which is how we've already been viewing the data:"
   ]
  },
  {
   "cell_type": "code",
   "execution_count": null,
   "id": "fd2cbee6-4bf1-4b7b-8c1e-336d9c925d39",
   "metadata": {},
   "outputs": [],
   "source": [
    "df.sort_index()"
   ]
  },
  {
   "cell_type": "markdown",
   "id": "aefb91d8-5491-4cd2-b5b6-682fa927ba3c",
   "metadata": {},
   "source": [
    "Let's try more arguments:"
   ]
  },
  {
   "cell_type": "code",
   "execution_count": null,
   "id": "c21438b8-f181-4943-813e-cc9a2a31180e",
   "metadata": {},
   "outputs": [],
   "source": [
    "df.sort_index(ascending=False)"
   ]
  },
  {
   "cell_type": "markdown",
   "id": "a4a9fe24",
   "metadata": {},
   "source": [
    "Notice that ordering is case sensitive."
   ]
  },
  {
   "cell_type": "code",
   "execution_count": null,
   "id": "4f050a48-f9f0-4c2a-8ba7-b2a1b0fee539",
   "metadata": {},
   "outputs": [],
   "source": [
    "df.sort_index(axis=1)"
   ]
  },
  {
   "cell_type": "code",
   "execution_count": null,
   "id": "a3ebda81-4f46-496c-8024-3d8c6bc1f5b4",
   "metadata": {},
   "outputs": [],
   "source": [
    "df.sort_index(axis=1, ascending=False)"
   ]
  },
  {
   "cell_type": "markdown",
   "id": "4077bad2-b2fa-4a39-a4b7-e1502a77d893",
   "metadata": {},
   "source": [
    "<br><br><br>The second sort function, `sort_values()`, will sort the frame by the data in a column:"
   ]
  },
  {
   "cell_type": "code",
   "execution_count": null,
   "id": "88a11c54-65be-42e5-8545-424365d7b560",
   "metadata": {},
   "outputs": [],
   "source": [
    "df.sort_values(\"area_burned\")"
   ]
  },
  {
   "cell_type": "code",
   "execution_count": null,
   "id": "273c8486-7436-490e-84d1-3b0d29d377fe",
   "metadata": {},
   "outputs": [],
   "source": [
    "df.sort_values(\"day\")"
   ]
  },
  {
   "cell_type": "markdown",
   "id": "8c86460e-e255-430e-b047-27c692c0bfef",
   "metadata": {},
   "source": [
    "### <br><br>Exercise 2.3"
   ]
  },
  {
   "cell_type": "markdown",
   "id": "0aca5577-3002-4365-aa2f-de191ee083b4",
   "metadata": {},
   "source": [
    "Write code to sort the DataFrame by the rain column, with the largest values at the top:"
   ]
  },
  {
   "cell_type": "code",
   "execution_count": null,
   "id": "560d0a4b-8967-4837-aa72-e072ac28d632",
   "metadata": {},
   "outputs": [],
   "source": []
  },
  {
   "cell_type": "markdown",
   "id": "51fe9eb7-72ca-4b5a-a853-71518fdb8de3",
   "metadata": {},
   "source": [
    "You can also sort on multiple values by passing the `sort_values` function a list of column names instead of a single name. If we want to first sort by day, then by area burned:"
   ]
  },
  {
   "cell_type": "code",
   "execution_count": null,
   "id": "168e6f9b-bb85-45a1-b079-a4b51af32eff",
   "metadata": {},
   "outputs": [],
   "source": [
    "df.sort_values([\"day\", \"area_burned\"])"
   ]
  },
  {
   "cell_type": "markdown",
   "id": "c544ae6d",
   "metadata": {},
   "source": [
    "Write code to sort the DataFrame by month, day, and by temperature. As a bonus, use the [documentation](https://pandas.pydata.org/docs/reference/api/pandas.DataFrame.sort_values.html) to figure out if you can sort by month and day in increasing alphabetical order, and decreasing temperature."
   ]
  },
  {
   "cell_type": "code",
   "execution_count": null,
   "id": "047696e4",
   "metadata": {},
   "outputs": [],
   "source": []
  },
  {
   "cell_type": "markdown",
   "id": "b3ee6096-3f4b-4ac8-a562-12a98fbb8560",
   "metadata": {},
   "source": [
    "## <br><br><br>2.4 Saving your changed DataFrame"
   ]
  },
  {
   "cell_type": "markdown",
   "id": "c32750a6-417e-40ec-ba6a-d75b14a18ab1",
   "metadata": {},
   "source": [
    "We've made a lot of changes to the forest fire dataset. Let's save it as a new csv file. First, we can decide what we're going to call the new file:"
   ]
  },
  {
   "cell_type": "code",
   "execution_count": null,
   "id": "d1bc0ec2-129e-408c-baca-97351e23a0d6",
   "metadata": {},
   "outputs": [],
   "source": [
    "new_filename = \"fire_changed.csv\""
   ]
  },
  {
   "cell_type": "markdown",
   "id": "3b92b272-2a4e-4abb-8c4d-17e5321d72ef",
   "metadata": {},
   "source": [
    "Next, we can use the `to_csv()` method function to save the new file:"
   ]
  },
  {
   "cell_type": "code",
   "execution_count": null,
   "id": "f37daef5-3253-4687-9626-66542ad5bcb8",
   "metadata": {},
   "outputs": [],
   "source": [
    "df.to_csv(new_filename)"
   ]
  },
  {
   "cell_type": "markdown",
   "id": "d258048d-ec4d-4a4e-addd-8185ba0416e3",
   "metadata": {},
   "source": [
    "### <br><br>Exercise 2.4"
   ]
  },
  {
   "cell_type": "markdown",
   "id": "f5a819aa-8172-4157-b1b5-5a16d74e327d",
   "metadata": {},
   "source": [
    "Create a new version of the dataframe called `df_rain` that holds the `df` sorted by the rain column with the smallest rain flow at the top. Also, make the DataFrame only contain month, day, and rain flow columns."
   ]
  },
  {
   "cell_type": "code",
   "execution_count": null,
   "id": "2a0c3819-e13e-44a4-b283-a4d66e09efee",
   "metadata": {},
   "outputs": [],
   "source": []
  },
  {
   "cell_type": "markdown",
   "id": "d88d9f62-33ab-4003-a57d-40835aa45373",
   "metadata": {},
   "source": [
    "Run the next line of code to save a new filename for the rain dataframe:"
   ]
  },
  {
   "cell_type": "code",
   "execution_count": null,
   "id": "5144ce3a-a6a8-4445-8739-a7f6c36572a6",
   "metadata": {},
   "outputs": [],
   "source": [
    "rain_filename = \"forestFiresRain.csv\""
   ]
  },
  {
   "cell_type": "markdown",
   "id": "83100639-7b77-4597-acb1-8cbcdf00a8b2",
   "metadata": {},
   "source": [
    "Write code to save the df_rain dataframe as a csv file:"
   ]
  },
  {
   "cell_type": "code",
   "execution_count": null,
   "id": "68feaad1-468b-4b4d-b4c2-92e4606ade88",
   "metadata": {},
   "outputs": [],
   "source": []
  },
  {
   "cell_type": "markdown",
   "id": "095e4bac-940e-411a-b7f4-3e2c9f466383",
   "metadata": {},
   "source": [
    "## <br><br>2.5 Setting index labels"
   ]
  },
  {
   "cell_type": "markdown",
   "id": "23b4823c-bba2-4090-b7a7-a65218e40a47",
   "metadata": {},
   "source": [
    "The bold numbers on the far left of each column were assigned to each row when the csv file was originally loaded into pandas."
   ]
  },
  {
   "cell_type": "code",
   "execution_count": null,
   "id": "fd71c70c-ed04-4d7b-8745-6877a8257bc7",
   "metadata": {},
   "outputs": [],
   "source": [
    "df.head()"
   ]
  },
  {
   "cell_type": "markdown",
   "id": "0a23b77d-300f-4874-816f-d060de506577",
   "metadata": {},
   "source": [
    "<br>You can, however, set one of your columns as the index labels:"
   ]
  },
  {
   "cell_type": "code",
   "execution_count": null,
   "id": "5b52d864-3cb8-420b-97a9-6083f121d476",
   "metadata": {},
   "outputs": [],
   "source": [
    "new_df = df.set_index(\"ID\")"
   ]
  },
  {
   "cell_type": "code",
   "execution_count": null,
   "id": "1b7c5d09-b5de-451c-a964-204644c08d93",
   "metadata": {},
   "outputs": [],
   "source": [
    "new_df.head()"
   ]
  },
  {
   "cell_type": "markdown",
   "id": "8d24fb1c-5733-48b7-971c-979d650fea01",
   "metadata": {},
   "source": [
    "## <br><br><br>2.6 Cleaning data while loading"
   ]
  },
  {
   "cell_type": "markdown",
   "id": "c6ffe5d1-6e22-433c-8f5e-d1721f33592c",
   "metadata": {},
   "source": [
    "Several of the data cleaning tasks we've learned can be done when loading the file in as a pandas DataFrame."
   ]
  },
  {
   "cell_type": "markdown",
   "id": "6db2e597-8f6f-44b2-bb8b-e15eb8c4a23a",
   "metadata": {},
   "source": [
    "#### Telling pandas to make a particular column the index with the `index_col` argument:"
   ]
  },
  {
   "cell_type": "code",
   "execution_count": null,
   "id": "b8e803f2-e313-4437-9c61-6186f89e9b25",
   "metadata": {},
   "outputs": [],
   "source": [
    "df = pd.read_csv(\"forestfires.csv\", index_col=\"ID\")\n",
    "df.head()"
   ]
  },
  {
   "cell_type": "markdown",
   "id": "2fd61bd1-a958-4636-95d0-55f5cd82c5f5",
   "metadata": {},
   "source": [
    "#### Telling pandas to only load some columns with the `usecols` argument:"
   ]
  },
  {
   "cell_type": "code",
   "execution_count": null,
   "id": "4d5c0191-15a4-49c0-87bc-917470716a01",
   "metadata": {},
   "outputs": [],
   "source": [
    "df = pd.read_csv(\"forestfires.csv\", usecols=[\"month\", \"day\", \"temp\", \"rain\", \"area_burned\"])\n",
    "df.head()"
   ]
  },
  {
   "cell_type": "markdown",
   "id": "47b4a9c0-df06-4744-8a0d-860d26c9d775",
   "metadata": {},
   "source": [
    "#### Telling pandas the column names with the `names` argument:"
   ]
  },
  {
   "cell_type": "code",
   "execution_count": null,
   "id": "72d9b3e6-2552-4fca-a77b-9a219e060908",
   "metadata": {},
   "outputs": [],
   "source": [
    "df = pd.read_csv(\"forestfires.csv\", names=[\"ID\", \"X\", \"Y\", \"Month\", \"Day\", \"Fuel Code\", \"Moisture Code\", \"Drought Code\", \"Initial Spread Code\", \"Temperature\", \"Humidity\", \"Wind\", \"Rain\", \"Area Burned (hectares)\"])\n",
    "df.head()"
   ]
  },
  {
   "cell_type": "markdown",
   "id": "60008334-408b-4210-8ee6-b5525a2ddaff",
   "metadata": {},
   "source": [
    "If you use `names`, it will treat your original header row as a row of data. To avoid that, you have to pass an additional argument - `header=0`."
   ]
  },
  {
   "cell_type": "code",
   "execution_count": null,
   "id": "812f897e-f928-458c-969f-54bdd2a47f94",
   "metadata": {},
   "outputs": [],
   "source": [
    "df = pd.read_csv(\"forestfires.csv\", header=0, names=[\"ID\", \"X\", \"Y\", \"Month\", \"Day\", \"Fuel Code\", \"Moisture Code\", \"Drought Code\", \"Initial Spread Code\", \"Temperature\", \"Humidity\", \"Wind\", \"Rain\", \"Area Burned (sq km)\"])\n",
    "df.head()"
   ]
  },
  {
   "cell_type": "markdown",
   "id": "f35a58e3-23e1-48cb-b1c0-fc70c84f4447",
   "metadata": {},
   "source": [
    "<br>And many more tricks [in this documentation](https://pandas.pydata.org/docs/reference/api/pandas.read_csv.html)."
   ]
  },
  {
   "cell_type": "markdown",
   "id": "536f593c-9941-45cf-9f44-a737c33f9560",
   "metadata": {},
   "source": [
    "# <br><br><br>3.0 Part Three: selecting data"
   ]
  },
  {
   "cell_type": "markdown",
   "id": "084353cd-6545-4c22-9656-f9d2f8f7189a",
   "metadata": {},
   "source": [
    "There are multiple ways to select data in pandas. You will need to learn all of the ways because you will see these techniques being used in other people's code and in answers to your pandas questions when you search online.\n",
    "<br><br>We will cover:\n",
    "- Selecting columns using DataFrame indexing\n",
    "- Selecting rows based on a boolean condition using DataFrame indexing\n",
    "- Selecting columns, rows, and individual data points with `loc` and `iloc`\n",
    "- Selecting individual data points with `at` and `iat`\n",
    "*You cannot select individual data points using indexing.*"
   ]
  },
  {
   "cell_type": "markdown",
   "id": "9895468a-410e-4174-b676-b5503ec04b17",
   "metadata": {},
   "source": [
    "We will work with the forest fires data again. Let's reload it with some data cleaning so that we're all working in the same version of the data frame. In this code, we will:\n",
    "- rename the columns to remove the \"_code\" from the end of the column names\n",
    "- remove the `X` and `Y` columns, since we won't be working with those\n",
    "- set the index as the `ID` column, which contains unique identifiers"
   ]
  },
  {
   "cell_type": "code",
   "execution_count": null,
   "id": "e42066c8-60b0-449a-a3d3-846aa7b1a81e",
   "metadata": {},
   "outputs": [],
   "source": [
    "df = pd.read_csv(\"forestfires.csv\",\n",
    "                 names=[\"ID\", \"X\", \"Y\", \"month\", \"day\", \"fuel\", \"moisture\", \"drought\", \"initial_spread\", \"temp\", \"humidity\", \"wind\", \"rain\", \"area_burned\"], \n",
    "                 header=0, \n",
    "                 index_col=\"ID\", \n",
    "                 usecols=[\"ID\", \"month\", \"day\", \"fuel\", \"moisture\", \"drought\", \"initial_spread\", \"temp\", \"humidity\", \"wind\", \"rain\", \"area_burned\"])\n",
    "df.head()"
   ]
  },
  {
   "cell_type": "markdown",
   "id": "324f3565-5dc2-4482-b9d3-7fd03b8aaf1c",
   "metadata": {
    "tags": []
   },
   "source": [
    "## <br><br>3.1 Selecting columns using indexing"
   ]
  },
  {
   "cell_type": "markdown",
   "id": "84f3e993-04b8-43e2-a608-cc2a81356029",
   "metadata": {},
   "source": [
    "To create a DataFrame with only some columns, you use indexing, and you pass it a list of the columns that you want to include:"
   ]
  },
  {
   "cell_type": "code",
   "execution_count": null,
   "id": "26f7e111-8e1b-4abb-abe5-8932d4e6e6bb",
   "metadata": {},
   "outputs": [],
   "source": [
    "my_columns = [\"month\", \"day\", \"area_burned\"]\n",
    "df[my_columns]"
   ]
  },
  {
   "cell_type": "markdown",
   "id": "758552dc-d1aa-4438-9c7f-059c0dbc1757",
   "metadata": {},
   "source": [
    "<br>OR you could just include the list inside the indexing. This creates two sets of square brackets, which looks a little silly, but it works!"
   ]
  },
  {
   "cell_type": "code",
   "execution_count": null,
   "id": "2c605f4b-db6a-4430-9c7c-b8e78e01bd31",
   "metadata": {},
   "outputs": [],
   "source": [
    "df[[\"month\", \"day\", \"area_burned\"]]"
   ]
  },
  {
   "cell_type": "markdown",
   "id": "64ee3f9b-7ca4-41d5-9344-3678085c1441",
   "metadata": {},
   "source": [
    "<br>If you want to return just one column as a DataFrame, you still use the list inside the index:"
   ]
  },
  {
   "cell_type": "code",
   "execution_count": null,
   "id": "9c8c54eb-5adb-4e90-97ca-1fc0f46b70d6",
   "metadata": {},
   "outputs": [],
   "source": [
    "df[[\"month\"]]"
   ]
  },
  {
   "cell_type": "markdown",
   "id": "da91f6c3-8548-402d-8283-fbfa71764cf4",
   "metadata": {},
   "source": [
    "### <br><br>Exercise 3.1"
   ]
  },
  {
   "cell_type": "markdown",
   "id": "07ab06d0-1613-440d-a350-45008be17d4a",
   "metadata": {},
   "source": [
    "Here's a reminder of what the DataFrame looks like:"
   ]
  },
  {
   "cell_type": "code",
   "execution_count": null,
   "id": "089c2dd0-02e9-4d21-b543-b57a8804e4ac",
   "metadata": {},
   "outputs": [],
   "source": [
    "df.head()"
   ]
  },
  {
   "cell_type": "markdown",
   "id": "ce13baab-eb29-4c8b-84d3-72a2533f9bd6",
   "metadata": {},
   "source": [
    "Write code to return the humidity, wind, and rain columns:"
   ]
  },
  {
   "cell_type": "code",
   "execution_count": null,
   "id": "3d689a06-5424-4d8a-875b-eec479243a4c",
   "metadata": {},
   "outputs": [],
   "source": []
  },
  {
   "cell_type": "markdown",
   "id": "50dd3462-a9c5-4232-bd42-3193aa424715",
   "metadata": {},
   "source": [
    "Write code to return the temp column:"
   ]
  },
  {
   "cell_type": "code",
   "execution_count": null,
   "id": "77d5766f-95cb-4237-927e-5f797d74978d",
   "metadata": {},
   "outputs": [],
   "source": []
  },
  {
   "cell_type": "markdown",
   "id": "92d26f14-13b5-4b16-b940-f4764d22fb2d",
   "metadata": {},
   "source": [
    "## <br><br><br>3.2 pandas Series object\n",
    "If you only index the column name, without putting it in a list, you get a different type of pandas object - the **Series** object."
   ]
  },
  {
   "cell_type": "code",
   "execution_count": null,
   "id": "99c46638-438f-486b-a12d-6e19206453d8",
   "metadata": {},
   "outputs": [],
   "source": [
    "df[\"month\"]"
   ]
  },
  {
   "cell_type": "markdown",
   "id": "a1a56797-3221-454f-b483-8eca893cffdf",
   "metadata": {},
   "source": [
    "<br>A Series object only returns the values from one column. It can be turned into a list, which is very convenient:"
   ]
  },
  {
   "cell_type": "code",
   "execution_count": null,
   "id": "44e0725d-677d-4255-9010-a5ac78ccddce",
   "metadata": {},
   "outputs": [],
   "source": [
    "month_list = list(df[\"month\"])\n",
    "print(len(month_list))\n",
    "print(type(month_list))\n",
    "print(month_list[0:5])"
   ]
  },
  {
   "cell_type": "markdown",
   "id": "783476a5-2155-4ab8-8dab-64779bb726d8",
   "metadata": {},
   "source": [
    "<br>**A Series object is a one-dimensional object, while a DataFrame is a two-dimensional object. A Series can be turned into a list, while a DataFrame can be indexed based on row number, so they both have their uses.**"
   ]
  },
  {
   "cell_type": "markdown",
   "id": "0ee3cb99-6f57-401e-a16c-a06cfdf8fd0c",
   "metadata": {},
   "source": [
    "### <br><br>Exercise 3.2"
   ]
  },
  {
   "cell_type": "markdown",
   "id": "9a049a80-00c8-4d4d-a3e2-a75597ff9aaf",
   "metadata": {},
   "source": [
    "Write code to return a list of data in the day column:"
   ]
  },
  {
   "cell_type": "code",
   "execution_count": null,
   "id": "981427e2-0002-4bda-beb8-059cf083ee70",
   "metadata": {},
   "outputs": [],
   "source": [
    "day_data = "
   ]
  },
  {
   "cell_type": "code",
   "execution_count": null,
   "id": "4352ed8f-3522-426f-8a6e-9cf3a5cbabeb",
   "metadata": {},
   "outputs": [],
   "source": [
    "print(len(day_data))\n",
    "print(type(day_data))"
   ]
  },
  {
   "cell_type": "markdown",
   "id": "990a1af9-622c-4d0a-82b3-ad64c6623698",
   "metadata": {},
   "source": [
    "## <br><br><br>3.3 Selecting rows using indexing"
   ]
  },
  {
   "cell_type": "markdown",
   "id": "11891ffa-6371-4753-b624-0c3bc74a85ab",
   "metadata": {},
   "source": [
    "If we want to return a DataFrame with only some **rows**, we can index a range. DataFrame indexing uses regular Python indexing, so we ask for the first item we want, and then a colon, and then we go one position past the last item we want. "
   ]
  },
  {
   "cell_type": "code",
   "execution_count": null,
   "id": "0701704b-1fd2-4c37-8043-76d8af913728",
   "metadata": {},
   "outputs": [],
   "source": [
    "df[0:10]"
   ]
  },
  {
   "cell_type": "markdown",
   "id": "d8fa19de-1035-4dbd-8ff7-4ae98397255b",
   "metadata": {},
   "source": [
    "<br>Because this indexing is referencing the **position of the row in the DataFrame**, not the **index number**, we can use negative indexing in either spot to count from the bottom of the DataFrame."
   ]
  },
  {
   "cell_type": "code",
   "execution_count": null,
   "id": "cef717f4-5ddc-438b-811b-058b2ba89f63",
   "metadata": {},
   "outputs": [],
   "source": [
    "df[495:-12]"
   ]
  },
  {
   "cell_type": "markdown",
   "id": "7923721a-9f65-4379-9d63-d9e8f72cb83f",
   "metadata": {},
   "source": [
    "<br>If you only want a single row, you still need to use indexing with a `:`:"
   ]
  },
  {
   "cell_type": "code",
   "execution_count": null,
   "id": "ad47fd6f-2dea-4762-b0ff-fffd94d64836",
   "metadata": {},
   "outputs": [],
   "source": [
    "df[4:5]"
   ]
  },
  {
   "cell_type": "markdown",
   "id": "d97f64b6-db27-4a66-9226-cd465e0e51fa",
   "metadata": {},
   "source": [
    "### <br><br>Exercise 3.3"
   ]
  },
  {
   "cell_type": "markdown",
   "id": "7496515a-3b53-421e-8d0b-8c75b7fe5922",
   "metadata": {},
   "source": [
    "Write code to return row number 14137."
   ]
  },
  {
   "cell_type": "code",
   "execution_count": null,
   "id": "c63c905b-4bc9-4b36-9cbb-3c3e6625b38a",
   "metadata": {},
   "outputs": [],
   "source": []
  },
  {
   "cell_type": "markdown",
   "id": "b0158700-008b-4780-950a-519fe8f9f02b",
   "metadata": {},
   "source": [
    "Write code to return the last row in our DataFrame."
   ]
  },
  {
   "cell_type": "code",
   "execution_count": null,
   "id": "1b67e7fc-578c-4cc3-8ac5-2e11d9c36371",
   "metadata": {},
   "outputs": [],
   "source": [
    "df"
   ]
  },
  {
   "cell_type": "markdown",
   "id": "55baa66e-10dd-4eae-9ba1-3155b117a567",
   "metadata": {},
   "source": [
    "## <br><br><br>3.4 Selecting data with a boolean"
   ]
  },
  {
   "cell_type": "markdown",
   "id": "d5e2ea5e-5e03-4272-b2df-e115e8a5543c",
   "metadata": {},
   "source": [
    "To return a DataFrame that only has rows that meet a certain condition, we use this syntax. The outer `df[]` lets Python know that you want the answer to be returned as a DataFrame, meaning you can return all the columns included in the output. Inside the indexing, we include our boolean statement, which usually means we need to index a particular column in the dataset to filter the data on."
   ]
  },
  {
   "cell_type": "code",
   "execution_count": null,
   "id": "aa426ded-096c-4d2f-9394-f45c8db13862",
   "metadata": {},
   "outputs": [],
   "source": [
    "df[df[\"month\"] == \"oct\"]"
   ]
  },
  {
   "cell_type": "markdown",
   "id": "fbdb9a46-a1e2-485b-a702-bec72f91ccce",
   "metadata": {},
   "source": [
    "<br>If you don't use the outer `df[]` the return is a Series object that returns the boolean value for each row based on the condition you set:"
   ]
  },
  {
   "cell_type": "code",
   "execution_count": null,
   "id": "6e7a6d14-4419-4a0c-840e-3cc3c0d1db23",
   "metadata": {},
   "outputs": [],
   "source": [
    "df[\"month\"] == \"oct\""
   ]
  },
  {
   "cell_type": "code",
   "execution_count": null,
   "id": "68c02143-ef3b-4647-bc58-2fb9c45e56e0",
   "metadata": {},
   "outputs": [],
   "source": [
    "df[df[\"temp\"] > 30]"
   ]
  },
  {
   "cell_type": "markdown",
   "id": "14f6ef09-d54f-45e7-b22b-cb2a996939ae",
   "metadata": {},
   "source": [
    "### <br><br>Exercise 3.4"
   ]
  },
  {
   "cell_type": "markdown",
   "id": "a21a3f93-6549-440c-8edc-ce6ec8b38613",
   "metadata": {},
   "source": [
    "Write code to return a DataFrame that only includes fires on Mondays:"
   ]
  },
  {
   "cell_type": "code",
   "execution_count": null,
   "id": "192e4345-04e9-4fc2-a584-f00ce6d8fc9c",
   "metadata": {},
   "outputs": [],
   "source": []
  },
  {
   "cell_type": "markdown",
   "id": "ebe21cd6-89e5-463b-a880-29043b02c3ae",
   "metadata": {},
   "source": [
    "Write code to return a DataFrame that only includes fires on days when rain was greater than 2:"
   ]
  },
  {
   "cell_type": "code",
   "execution_count": null,
   "id": "72532c89-5377-4ee0-8e77-c6b11d88be24",
   "metadata": {},
   "outputs": [],
   "source": []
  },
  {
   "cell_type": "markdown",
   "id": "3a315316-6097-49eb-baa3-a15498a86024",
   "metadata": {},
   "source": [
    "## <br><br><br>3.5 Combining boolean indexing with column indexing"
   ]
  },
  {
   "cell_type": "markdown",
   "id": "72bd8f65-00d3-419c-ac2b-d95050289afe",
   "metadata": {},
   "source": [
    "You can also combine a boolean with column indexing to return only some columns for your filtered data. Here I am returning only the team2, score1, and score2 columns for any rows with \"CHI\" in the team1 column."
   ]
  },
  {
   "cell_type": "code",
   "execution_count": null,
   "id": "b7a0d120-2ca5-49ce-9b52-c97964f82f8d",
   "metadata": {},
   "outputs": [],
   "source": [
    "df[df[\"month\"] == \"aug\"][[\"wind\", \"rain\", \"humidity\"]]"
   ]
  },
  {
   "cell_type": "markdown",
   "id": "0aafd74e-0f99-469d-8979-60a425834444",
   "metadata": {},
   "source": [
    "### <br><br>Exercise 3.5"
   ]
  },
  {
   "cell_type": "markdown",
   "id": "be5e5488-1ef6-475d-859a-9f202ea851eb",
   "metadata": {},
   "source": [
    "Write code to return all the fires with area_burned greater than 0. Return only columns for month and day."
   ]
  },
  {
   "cell_type": "code",
   "execution_count": null,
   "id": "6535f219-0f60-4ed5-8f47-13bdbf76f026",
   "metadata": {},
   "outputs": [],
   "source": []
  },
  {
   "cell_type": "markdown",
   "id": "dd0f0b66-2e73-4b3a-8e1e-d79d32da2903",
   "metadata": {},
   "source": [
    "<br><br><br>**Using the indexing method, we cannot refer to individual rows by index name or easily pull up individual cells in our DataFrame.**"
   ]
  },
  {
   "cell_type": "code",
   "execution_count": null,
   "id": "e5982808-88ee-4c37-b568-1d2c2a8a510e",
   "metadata": {},
   "outputs": [],
   "source": [
    "df[14147]"
   ]
  },
  {
   "cell_type": "markdown",
   "id": "6240b7a2-3559-4539-8773-1abab458b598",
   "metadata": {
    "tags": []
   },
   "source": [
    "## <br><br><br>3.6 pandas `loc`"
   ]
  },
  {
   "cell_type": "markdown",
   "id": "f6ace5f2-9ed6-4eb1-b0cc-5275a41fff70",
   "metadata": {},
   "source": [
    "The [`loc`](https://pandas.pydata.org/docs/reference/api/pandas.DataFrame.loc.html) **attribute** allows us to call up certain rows and columns **based on their index names (or labels) or a boolean array**. The syntax is:"
   ]
  },
  {
   "cell_type": "markdown",
   "id": "fa6c9669-b721-4fe3-8009-f976cb1ee68a",
   "metadata": {},
   "source": [
    "#### `df.loc[row, column]`"
   ]
  },
  {
   "cell_type": "markdown",
   "id": "3a6caa83-81e7-4567-ae37-1222893647c3",
   "metadata": {},
   "source": [
    "#### `df.loc[list of rows, list of columns]`"
   ]
  },
  {
   "cell_type": "markdown",
   "id": "5600beb6-bc6c-4c01-85c7-12879ba4c1c4",
   "metadata": {},
   "source": [
    "#### `df.loc[range of rows, range of columns]`"
   ]
  },
  {
   "cell_type": "markdown",
   "id": "0aa9e930-d69c-484a-96c7-de09e81a0c36",
   "metadata": {},
   "source": [
    "`loc` can take a row, a list of rows, or a range of rows, followed by a comma, and then a column, list of columns, or range of columns. <br><br>If you want all the rows or all the columns, you can use a `:`. <br><br>**The rows that we refer to here are the row names (index names) that are found in bold on the far left of our DataFrame.**"
   ]
  },
  {
   "cell_type": "markdown",
   "id": "decd9344-c813-4398-9384-b85fab700fdc",
   "metadata": {},
   "source": [
    "<br>To reference one cell:"
   ]
  },
  {
   "cell_type": "code",
   "execution_count": null,
   "id": "772ca4d2-c62c-443d-b68c-8c25e48571f0",
   "metadata": {},
   "outputs": [],
   "source": [
    "df.loc[14171, \"month\"]"
   ]
  },
  {
   "cell_type": "markdown",
   "id": "9980ff86-3d83-47c3-8b6c-090c8c66f271",
   "metadata": {},
   "source": [
    "<br>All rows for one column:"
   ]
  },
  {
   "cell_type": "code",
   "execution_count": null,
   "id": "1acaa43d-6671-45c5-8c14-f8beae14884e",
   "metadata": {},
   "outputs": [],
   "source": [
    "df.loc[:, \"month\"]"
   ]
  },
  {
   "cell_type": "markdown",
   "id": "36aa9c5d-1f1a-461c-9f5d-7092c2254d69",
   "metadata": {},
   "source": [
    "<br>All columns for one row:"
   ]
  },
  {
   "cell_type": "code",
   "execution_count": null,
   "id": "5d3313b7-834c-4bff-84fb-6624219bd2dc",
   "metadata": {},
   "outputs": [],
   "source": [
    "df.loc[14375, :]"
   ]
  },
  {
   "cell_type": "markdown",
   "id": "f7cbeb77-3706-4e0d-b7ee-253c2698c71c",
   "metadata": {},
   "source": [
    "### <br><br>Exercise 3.6"
   ]
  },
  {
   "cell_type": "markdown",
   "id": "2df46706-14cf-4ef9-b306-e6b291bcef36",
   "metadata": {},
   "source": [
    "Write code to return all columns in row 14647:"
   ]
  },
  {
   "cell_type": "code",
   "execution_count": null,
   "id": "bd21eb3f-7d4c-49e7-90bf-2c26146f6772",
   "metadata": {},
   "outputs": [],
   "source": []
  },
  {
   "cell_type": "markdown",
   "id": "4a9e604f-8009-46f2-99ae-a41ed0a28233",
   "metadata": {},
   "source": [
    "What was the temperature on the day of fire 14647? Write code to return the data in the column `temp` for that row:"
   ]
  },
  {
   "cell_type": "code",
   "execution_count": null,
   "id": "98f0ca53-9ada-4c8e-9a4e-1e3ed7d89567",
   "metadata": {},
   "outputs": [],
   "source": []
  },
  {
   "cell_type": "markdown",
   "id": "97c8515d-ce89-4d59-ab12-8b9e9d8357fd",
   "metadata": {},
   "source": [
    "## <br><br>3.7 `loc` with a range and a list"
   ]
  },
  {
   "cell_type": "markdown",
   "id": "a9124c5b-b601-43ad-ae57-147da56cfb80",
   "metadata": {},
   "source": [
    "This code will return all columns for the first 10."
   ]
  },
  {
   "cell_type": "code",
   "execution_count": null,
   "id": "c18caf4f-ea30-4c96-925d-8948587a0d17",
   "metadata": {},
   "outputs": [],
   "source": [
    "df.loc[0:10, :]"
   ]
  },
  {
   "cell_type": "markdown",
   "id": "64822241-5c4e-465e-8abb-9db40cf8009e",
   "metadata": {},
   "source": [
    "<br>**Oops! Unlike Python indexing, `loc` is referencing the rows by their index names, so we need to know those index names to use `loc`.**"
   ]
  },
  {
   "cell_type": "code",
   "execution_count": null,
   "id": "3404d637-ee81-4b06-8a3d-c03261e5add2",
   "metadata": {},
   "outputs": [],
   "source": [
    "first_row = 14140\n",
    "df.loc[first_row:first_row + 10, :]"
   ]
  },
  {
   "cell_type": "markdown",
   "id": "07e37111-f264-4e8c-8a8a-0726ff6412fc",
   "metadata": {},
   "source": [
    "**Uh-oh, it gave us 11 rows! Again, `loc` isn't working with index positions, so we don't have to ask for 1 past what we want.**"
   ]
  },
  {
   "cell_type": "code",
   "execution_count": null,
   "id": "0ee3e23a-987f-4d6b-845a-4210447f87d6",
   "metadata": {},
   "outputs": [],
   "source": [
    "first_row = 14140\n",
    "df.loc[first_row:first_row + 9, :]"
   ]
  },
  {
   "cell_type": "markdown",
   "id": "a0271056-16c5-4c05-be25-ae6897d29d25",
   "metadata": {},
   "source": [
    "<br><br>We can also ask for a range of columns, from left to right:"
   ]
  },
  {
   "cell_type": "code",
   "execution_count": null,
   "id": "b11ba013-fddd-4499-ad55-15eceee4ef86",
   "metadata": {},
   "outputs": [],
   "source": [
    "df.loc[first_row:first_row + 9, \"temp\":\"rain\"]"
   ]
  },
  {
   "cell_type": "markdown",
   "id": "468126ba-ef8f-4804-a5ca-f5a68bb4ddba",
   "metadata": {},
   "source": [
    "<br><br>Again, `loc` uses the column and row names, not their positions, so this will not work:"
   ]
  },
  {
   "cell_type": "code",
   "execution_count": null,
   "id": "a37f9b9c-acc0-4ce7-b4d6-12a20ed6828f",
   "metadata": {},
   "outputs": [],
   "source": [
    "df.loc[0:10, 0:4]"
   ]
  },
  {
   "cell_type": "markdown",
   "id": "038b4aa4-9a43-4d57-8cc0-db2bec1284c5",
   "metadata": {},
   "source": [
    "<br><br>We can also pass a list of rows or columns:"
   ]
  },
  {
   "cell_type": "code",
   "execution_count": null,
   "id": "225ae36d-17bf-4cd3-b90e-40fca646376d",
   "metadata": {},
   "outputs": [],
   "source": [
    "df.loc[[14589, 14420, 14632], [\"area_burned\", \"month\", \"day\"]]"
   ]
  },
  {
   "cell_type": "markdown",
   "id": "f04362fa-f2a7-4d33-ac6c-969c71f53e4b",
   "metadata": {},
   "source": [
    "*Notice how the returned DataFrame used the same order given in the lists.*"
   ]
  },
  {
   "cell_type": "markdown",
   "id": "a9eeeac8-9cd8-4862-baa7-f92a27eb5aea",
   "metadata": {},
   "source": [
    "### <br><br>Exercise 3.7"
   ]
  },
  {
   "cell_type": "markdown",
   "id": "a2d74301-06a2-4e67-aaaf-b094d4503707",
   "metadata": {},
   "source": [
    "The last row in our DataFrame is indexed as `14651`."
   ]
  },
  {
   "cell_type": "markdown",
   "id": "1e1ea4db-0a47-4774-9818-f62603645904",
   "metadata": {},
   "source": [
    "Write code to return the last 5 rows in the DataFrame, and return only the columns \"rain\", \"temp\", \"humidity\", and \"area_burned\":"
   ]
  },
  {
   "cell_type": "code",
   "execution_count": null,
   "id": "66c4ed80-75b9-4180-bbb9-0b7cf8a18828",
   "metadata": {},
   "outputs": [],
   "source": []
  },
  {
   "cell_type": "markdown",
   "id": "8cd3da9a-e5b4-4638-84cb-5b6e50449d29",
   "metadata": {},
   "source": [
    "## <br><br>3.8 `loc` with a boolean"
   ]
  },
  {
   "cell_type": "markdown",
   "id": "63fd90a8-01e6-42a4-a99c-0f5d346b4a13",
   "metadata": {},
   "source": [
    "You can use a boolean to filter rows. The boolean is written the same way as we would write it without using `loc`:"
   ]
  },
  {
   "cell_type": "code",
   "execution_count": null,
   "id": "7c0ddafb-d51e-4401-a9e1-70bf2b4b3e61",
   "metadata": {},
   "outputs": [],
   "source": [
    "df.loc[df[\"month\"] == \"apr\", :]"
   ]
  },
  {
   "cell_type": "markdown",
   "id": "87fed3ca-c071-4b73-9f1e-6928c2b1ab7c",
   "metadata": {},
   "source": [
    "<br><br>Here I use the same filter for the rows, but I only ask for three columns to be returned:"
   ]
  },
  {
   "cell_type": "code",
   "execution_count": null,
   "id": "2ed22201-4e97-4a76-804d-66fb00c07163",
   "metadata": {},
   "outputs": [],
   "source": [
    "df.loc[df[\"month\"] == \"apr\", [\"fuel\", \"moisture\", \"drought\"]]"
   ]
  },
  {
   "cell_type": "markdown",
   "id": "8cfdb905-4287-45f2-8072-f7f1c103cf19",
   "metadata": {},
   "source": [
    "### <br><br>Exercise 3.8"
   ]
  },
  {
   "cell_type": "markdown",
   "id": "a3de793b-0f6e-46b2-b454-a20298460686",
   "metadata": {},
   "source": [
    "Write code to return all fires started on Sundays. Only return the columns \"rain\", \"temp\", and \"drought\"."
   ]
  },
  {
   "cell_type": "code",
   "execution_count": null,
   "id": "ad94e9b5-6d92-4f47-86bb-5ece18aae7da",
   "metadata": {},
   "outputs": [],
   "source": []
  },
  {
   "cell_type": "code",
   "execution_count": null,
   "id": "5cf2e2b8-8e41-499b-a4e9-39311043513c",
   "metadata": {},
   "outputs": [],
   "source": []
  },
  {
   "cell_type": "markdown",
   "id": "0f45a137-6703-4ff1-9258-7a35bdff1967",
   "metadata": {},
   "source": [
    "## <br><br><br>3.9 pandas `iloc`"
   ]
  },
  {
   "cell_type": "markdown",
   "id": "4703e090-0552-4372-ab48-75ca19150e7e",
   "metadata": {},
   "source": [
    "**While `loc` searches by row and column names, [`iloc`](https://pandas.pydata.org/docs/reference/api/pandas.DataFrame.iloc.html) searches only by the indexed positions in the DataFrame.**"
   ]
  },
  {
   "cell_type": "markdown",
   "id": "313ab21d-5b95-405d-94c5-f3967316b390",
   "metadata": {},
   "source": [
    "Here, I'm asking for the top 10 rows and the first four columns:"
   ]
  },
  {
   "cell_type": "code",
   "execution_count": null,
   "id": "ada588f8-1cf2-40c6-9056-220ec1af6747",
   "metadata": {},
   "outputs": [],
   "source": [
    "df.iloc[0:10, 0:4]"
   ]
  },
  {
   "cell_type": "markdown",
   "id": "7129da68-671e-4eed-9895-e1b2b37cc566",
   "metadata": {},
   "source": [
    "<br>**Notice that `iloc` uses Python indexing!** When we ask for rows 0:10, it returns rows 0 to 9. Also notice that the index (the bold number on the left side of each row) does not count as a true column."
   ]
  },
  {
   "cell_type": "markdown",
   "id": "f4932b14-ae20-4e38-bb3c-ee7bb83d9993",
   "metadata": {},
   "source": [
    "<br>Because `iloc` uses Python indexing, we can use negative numbers:"
   ]
  },
  {
   "cell_type": "code",
   "execution_count": null,
   "id": "47c808dc-2c7a-4da5-880e-b77689ad8233",
   "metadata": {},
   "outputs": [],
   "source": [
    "df.iloc[-10:, 4:-2]"
   ]
  },
  {
   "cell_type": "markdown",
   "id": "475d891a-5526-446c-8c4a-c9c09071c099",
   "metadata": {},
   "source": [
    "### <br><br>Exercise 3.9"
   ]
  },
  {
   "cell_type": "markdown",
   "id": "ac3c7ded-25c7-4ce5-a0ea-1e9abed00744",
   "metadata": {},
   "source": [
    "Use iloc to return the column \"area_burned\" for the very last row in the DataFrame:"
   ]
  },
  {
   "cell_type": "code",
   "execution_count": null,
   "id": "b3fab7c2-c4a1-4b8d-be0c-dee6af82975b",
   "metadata": {},
   "outputs": [],
   "source": []
  },
  {
   "cell_type": "markdown",
   "id": "3b46ae29-2a4e-4005-8db4-b065945b7147",
   "metadata": {},
   "source": [
    "Use iloc to write code to return the columns \"rain\" and \"humidity\" for the first 20 rows in our DataFrame:"
   ]
  },
  {
   "cell_type": "code",
   "execution_count": null,
   "id": "b47bdd95-8860-4308-b48d-4b86c5cb5e6e",
   "metadata": {},
   "outputs": [],
   "source": []
  },
  {
   "cell_type": "markdown",
   "id": "89c8f396-cae6-49ec-888e-3ef23dcad856",
   "metadata": {},
   "source": [
    "## <br><br><br>3.10 pandas `at` and `iat`"
   ]
  },
  {
   "cell_type": "markdown",
   "id": "dcee7b7c-8076-4ab9-b620-03badbe13a49",
   "metadata": {},
   "source": [
    "If you are looking for the contents of only a single cell (called a **scalar**) in the DataFrame, you can use `loc` or `iloc`:"
   ]
  },
  {
   "cell_type": "code",
   "execution_count": null,
   "id": "76578098-c5d6-4203-af99-1afa690a3a2e",
   "metadata": {},
   "outputs": [],
   "source": [
    "df.loc[14651, \"month\"]"
   ]
  },
  {
   "cell_type": "code",
   "execution_count": null,
   "id": "d3b8de50-8dd8-4e67-a5e1-7840b542cf00",
   "metadata": {},
   "outputs": [],
   "source": [
    "df.iloc[-1, 0]"
   ]
  },
  {
   "cell_type": "markdown",
   "id": "7152378e-8df4-49cf-a48f-97c2e6211693",
   "metadata": {},
   "source": [
    "<br>However, there is another set of pandas functions designed to look up only a single cell. `at` will look up a single cell by row name and column name (like `loc`), and `iat` will look up a single cell by index position (like `iloc`)."
   ]
  },
  {
   "cell_type": "markdown",
   "id": "8ae554fa-566f-40d1-9177-fffda024f636",
   "metadata": {},
   "source": [
    "Why does pandas have a separate way to look up a single cell? Because `at` and `iat` are very fast. If you write code to look up 10,000 single points in a DataFrame, it would be much faster to use `at` or `iat` than `loc` or `iloc`."
   ]
  },
  {
   "cell_type": "code",
   "execution_count": null,
   "id": "aa20d245-c1e0-4f61-b8ab-b8c74b438123",
   "metadata": {},
   "outputs": [],
   "source": [
    "df.at[14651, \"month\"]"
   ]
  },
  {
   "cell_type": "code",
   "execution_count": null,
   "id": "a924d777-0551-4918-be99-257d87a7ef1c",
   "metadata": {},
   "outputs": [],
   "source": [
    "df.iat[-1, 0]"
   ]
  },
  {
   "cell_type": "markdown",
   "id": "9a1fbc87",
   "metadata": {},
   "source": [
    "In Jupyter notebook, there are built-in **magic commands** that let's us perform some special tasks. Magic commands are preceded by `%`. For example, in the following magic commands, I will time the speed of two lines of code by running each 100,000 times."
   ]
  },
  {
   "cell_type": "code",
   "execution_count": null,
   "id": "860e5fad",
   "metadata": {},
   "outputs": [],
   "source": [
    "%timeit -n 100000 df.loc[14651, \"month\"]\n",
    "%timeit -n 100000 df.at[14651, \"month\"]"
   ]
  },
  {
   "cell_type": "markdown",
   "id": "2167852c-1370-4350-923e-6078cf1ae455",
   "metadata": {},
   "source": [
    "<br><br>Just to reiterate, `at` and `iat` cannot be used with multiple rows or columns:"
   ]
  },
  {
   "cell_type": "code",
   "execution_count": null,
   "id": "1d74620a-5e25-4d1e-b2bc-9b2cf525207b",
   "metadata": {},
   "outputs": [],
   "source": [
    "df.at[0, [\"month\", \"day\"]]"
   ]
  },
  {
   "cell_type": "markdown",
   "id": "d6ad6dfd-7069-4dc8-bf61-b328180f466d",
   "metadata": {},
   "source": [
    "### <br><br>Exercise 3.10"
   ]
  },
  {
   "cell_type": "markdown",
   "id": "f1c283a4-934e-4811-811a-e88daa18d177",
   "metadata": {},
   "source": [
    "Use `at` to write code to find out what the temperature was on the day of fire 14650:"
   ]
  },
  {
   "cell_type": "code",
   "execution_count": null,
   "id": "721e26eb-cc6c-4d04-8ab4-bf46829ad55b",
   "metadata": {},
   "outputs": [],
   "source": []
  },
  {
   "cell_type": "markdown",
   "id": "789d0876-8331-46b5-9908-c15a5a85830a",
   "metadata": {},
   "source": [
    "Now use `iat` to find the same answer:"
   ]
  },
  {
   "cell_type": "code",
   "execution_count": null,
   "id": "fdea5139-9c30-4833-b71e-b7b8f6698e24",
   "metadata": {},
   "outputs": [],
   "source": []
  },
  {
   "cell_type": "markdown",
   "id": "8d3af5ba-a5d2-414f-a7c5-24d315accdaf",
   "metadata": {},
   "source": [
    "## <br><br><br>3.11 Searching for multiple conditionals in pandas"
   ]
  },
  {
   "cell_type": "markdown",
   "id": "23ca5570-8514-44b3-b54f-f2437c1d41b2",
   "metadata": {},
   "source": [
    "Let's say we want to search through the DataFrame for all fires in August with an area burned greater than 15 hectares. For each of these fires, we want to return only the columns for temperature and rain."
   ]
  },
  {
   "cell_type": "markdown",
   "id": "b66878e7-22b0-400c-bae9-04ee8033cf31",
   "metadata": {},
   "source": [
    "The conditional for only fires in August is:\n",
    "<br>`df[\"month\"] == \"aug\"`\n",
    "<br><br>The conditional for fires that burned more than 15 hectares is:\n",
    "<br>`df[\"area_burned\"] > 15`"
   ]
  },
  {
   "cell_type": "markdown",
   "id": "cfc02ea7-4c8e-4ca9-be9c-4c2c8f077909",
   "metadata": {},
   "source": [
    "We might try to use Python operators (`and`, `or`, `not`):"
   ]
  },
  {
   "cell_type": "code",
   "execution_count": null,
   "id": "cd31f7fd-959e-45c5-9312-aa8bccea7295",
   "metadata": {},
   "outputs": [],
   "source": [
    "df.loc[df[\"month\"] == \"aug\" and df[\"area_burned\"] > 15, [\"temp\", \"rain\"]]"
   ]
  },
  {
   "cell_type": "markdown",
   "id": "fce07b50-7657-494d-8c8c-49340ca0ea34",
   "metadata": {},
   "source": [
    "#### <br><br>However, pandas uses the operators `&`, `|`, `!` for and, or, and not, reespectively. Pandas also requires you to include each conditional inside parentheses."
   ]
  },
  {
   "cell_type": "code",
   "execution_count": null,
   "id": "db9e6f19-9760-4106-b878-130f9cb3cd98",
   "metadata": {},
   "outputs": [],
   "source": [
    "df.loc[(df[\"month\"] == \"aug\") & (df[\"area_burned\"] > 15), [\"temp\", \"rain\"]]"
   ]
  },
  {
   "cell_type": "markdown",
   "id": "c6172a13-a154-4b4f-9b81-8aa88f1805b1",
   "metadata": {},
   "source": [
    "You can also combine conditionals in boolean indexing."
   ]
  },
  {
   "cell_type": "code",
   "execution_count": null,
   "id": "311cbb9e",
   "metadata": {},
   "outputs": [],
   "source": [
    "df[(df[\"month\"] == \"aug\") & (df[\"area_burned\"] > 15)][[\"temp\", \"rain\"]]"
   ]
  },
  {
   "cell_type": "markdown",
   "id": "10497d9b",
   "metadata": {},
   "source": [
    "### <br><br>Exercise 3.11"
   ]
  },
  {
   "cell_type": "markdown",
   "id": "1c1702a7-2220-457d-9826-967ffdaed76e",
   "metadata": {},
   "source": [
    "Use `loc` to return fires in the DataFrame that happened in either June or July. For each row, return all columns. If you want to see how months are written in the month column, you can use `df[\"month\"].unique()`."
   ]
  },
  {
   "cell_type": "code",
   "execution_count": null,
   "id": "3b828e69",
   "metadata": {},
   "outputs": [],
   "source": []
  },
  {
   "cell_type": "markdown",
   "id": "db643dbe-e30e-4220-8524-8039a4bebedc",
   "metadata": {},
   "source": [
    "Has there ever been a fire in February that burned more than 20 hectares?:"
   ]
  },
  {
   "cell_type": "code",
   "execution_count": null,
   "id": "a32e2a01-6424-4f7b-9ab5-cecaa74c1693",
   "metadata": {},
   "outputs": [],
   "source": []
  },
  {
   "cell_type": "code",
   "execution_count": null,
   "id": "25340a60-bc81-42ae-b11e-520266bb6ab1",
   "metadata": {},
   "outputs": [],
   "source": []
  },
  {
   "cell_type": "code",
   "execution_count": null,
   "id": "d39e0b4a-a8a4-4b5a-845e-deba0c794ac2",
   "metadata": {},
   "outputs": [],
   "source": []
  },
  {
   "cell_type": "markdown",
   "id": "e4f77fef-8d82-44e1-bb25-98e29922ccf9",
   "metadata": {},
   "source": [
    "# <br><br><br>4.0 Part Four: data aggregation"
   ]
  },
  {
   "cell_type": "markdown",
   "id": "7e04b5bd-4df5-4fc8-9f0e-88f70f4acb70",
   "metadata": {},
   "source": [
    "Data aggregation means taking many data points and reducing them to one number, whether it's a count, sum, mean, or other single statistic. Here are some DataFrame method functions:"
   ]
  },
  {
   "cell_type": "markdown",
   "id": "35cd68f1-6084-4560-a658-52d3c455f725",
   "metadata": {},
   "source": [
    "- [`.count()`](https://pandas.pydata.org/pandas-docs/stable/reference/api/pandas.DataFrame.count.html)\n",
    "- [`.sum()`](https://pandas.pydata.org/pandas-docs/stable/reference/api/pandas.DataFrame.sum.html)\n",
    "- [`.mean()`](https://pandas.pydata.org/pandas-docs/stable/reference/api/pandas.DataFrame.mean.html)\n",
    "- [`.median()`](https://pandas.pydata.org/pandas-docs/stable/reference/api/pandas.DataFrame.median.html)\n",
    "- [`.min()`](https://pandas.pydata.org/pandas-docs/stable/reference/api/pandas.DataFrame.min.html)\n",
    "- [`.max()`](https://pandas.pydata.org/pandas-docs/stable/reference/api/pandas.DataFrame.max.html)\n",
    "- [`.unique()`](https://pandas.pydata.org/pandas-docs/stable/reference/api/pandas.Series.unique.html)\n",
    "- [`.nunique()`](https://pandas.pydata.org/pandas-docs/stable/reference/api/pandas.Series.nunique.html)\n",
    "- [`.std()`](https://pandas.pydata.org/pandas-docs/stable/reference/api/pandas.DataFrame.std.html)   #Standard error\n",
    "- [`.var()`](https://pandas.pydata.org/pandas-docs/stable/reference/api/pandas.DataFrame.var.html)   #Variance\n",
    "- And more! https://pandas.pydata.org/docs/reference/series.html#computations-descriptive-stats"
   ]
  },
  {
   "cell_type": "markdown",
   "id": "4b00af16-9d88-4629-b89f-bfcea34be7c2",
   "metadata": {},
   "source": [
    "## <br>4.1 Aggregating across the whole dataframe and across columns\n",
    "If you use a method function on the entire dataset, it will try its best to execute the method for all columns."
   ]
  },
  {
   "cell_type": "markdown",
   "id": "d0651c65-5efe-4a28-8f99-c1d6011e34a4",
   "metadata": {},
   "source": [
    "#### How many (non-missing) values are in each column?"
   ]
  },
  {
   "cell_type": "code",
   "execution_count": null,
   "id": "506bf8c0-aa7d-46a4-b8ac-805e5abcac51",
   "metadata": {},
   "outputs": [],
   "source": [
    "df.count()"
   ]
  },
  {
   "cell_type": "markdown",
   "id": "0a777f84-0127-489c-b0cc-78bbba8b0c63",
   "metadata": {},
   "source": [
    "#### What is the smallest value in each column?"
   ]
  },
  {
   "cell_type": "code",
   "execution_count": null,
   "id": "1aff8bdf-0fce-4814-a4f3-c8b78ad3ec79",
   "metadata": {},
   "outputs": [],
   "source": [
    "df.min()"
   ]
  },
  {
   "cell_type": "markdown",
   "id": "c1444682-ca60-4277-932e-be7b28b093e0",
   "metadata": {},
   "source": [
    "#### What is the sum of all values in each column?"
   ]
  },
  {
   "cell_type": "code",
   "execution_count": null,
   "id": "06e8f8f8-abd9-44b2-b266-54dd50bf02c8",
   "metadata": {},
   "outputs": [],
   "source": [
    "df.sum()"
   ]
  },
  {
   "cell_type": "markdown",
   "id": "44a95102-062a-4e92-8190-b5f9a5fd0097",
   "metadata": {},
   "source": [
    "#### What are the unique values in each column?"
   ]
  },
  {
   "cell_type": "code",
   "execution_count": null,
   "id": "f182ddbf-8165-4534-9bdb-05c5e221ce42",
   "metadata": {},
   "outputs": [],
   "source": [
    "df.unique()"
   ]
  },
  {
   "cell_type": "markdown",
   "id": "e1be4bb5-5555-4dc8-b1b1-4c0d20ff6aed",
   "metadata": {},
   "source": [
    "<br>**Uh-oh.** Not all functions will work on the entire DataFrame. \n",
    "<br>Most of the time you are interested in only a subset of the data. You can aggregate the data in a single column:"
   ]
  },
  {
   "cell_type": "markdown",
   "id": "23778d65-060e-4ded-bb54-11149c7a3cd0",
   "metadata": {},
   "source": [
    "#### <br>The `unique()` method function provides all unique values in a column, as a pandas object:"
   ]
  },
  {
   "cell_type": "code",
   "execution_count": null,
   "id": "77cd48fc-6e9e-4c7a-9abd-09cbbc8a570b",
   "metadata": {},
   "outputs": [],
   "source": [
    "df[\"day\"].unique()"
   ]
  },
  {
   "cell_type": "markdown",
   "id": "a17e2f32-f7c4-4346-8e57-0d599770fb46",
   "metadata": {},
   "source": [
    "This can easily be turned into a list:"
   ]
  },
  {
   "cell_type": "code",
   "execution_count": null,
   "id": "f275f4e6-83c9-48e0-afd0-8b18afbdbc29",
   "metadata": {},
   "outputs": [],
   "source": [
    "list(df[\"day\"].unique())"
   ]
  },
  {
   "cell_type": "markdown",
   "id": "632ce77b-72d4-4f7d-b661-a27ca5204ebd",
   "metadata": {},
   "source": [
    "#### The `nunique()` method tells you how many unique values are present in a column:"
   ]
  },
  {
   "cell_type": "code",
   "execution_count": null,
   "id": "cf96f512-021d-4bea-af0f-b7c021208ec0",
   "metadata": {},
   "outputs": [],
   "source": [
    "df[\"month\"].nunique()"
   ]
  },
  {
   "cell_type": "markdown",
   "id": "e6fd282c-77d6-43e1-9ac9-e1582890320d",
   "metadata": {},
   "source": [
    "#### Find the variance of one column.\n",
    "https://pandas.pydata.org/docs/reference/api/pandas.DataFrame.var.html for more info on the `var()` function."
   ]
  },
  {
   "cell_type": "code",
   "execution_count": null,
   "id": "a825e3ff-8ba2-4b0b-9cb1-a0037a1d5d8b",
   "metadata": {},
   "outputs": [],
   "source": [
    "df[\"temp\"].var()"
   ]
  },
  {
   "cell_type": "markdown",
   "id": "d343469a-e412-4e30-b137-4d3f7d7462be",
   "metadata": {},
   "source": [
    "### <br><br>Exercise 4.1"
   ]
  },
  {
   "cell_type": "markdown",
   "id": "78034c60-508c-4941-87dd-678747b29fd0",
   "metadata": {},
   "source": [
    "Write code to find the mean humidity of the dataset:"
   ]
  },
  {
   "cell_type": "code",
   "execution_count": null,
   "id": "b7fc17e6-a05d-44a6-acb4-3f37886c2907",
   "metadata": {},
   "outputs": [],
   "source": []
  },
  {
   "cell_type": "markdown",
   "id": "21a2ff96-5533-4d5a-bea6-1198e5f30ff6",
   "metadata": {},
   "source": [
    "Write code to find the coldest temperature in the dataset:"
   ]
  },
  {
   "cell_type": "code",
   "execution_count": null,
   "id": "2cbf6213-e015-4ae3-8a2d-a50a4b9500d3",
   "metadata": {},
   "outputs": [],
   "source": []
  },
  {
   "cell_type": "code",
   "execution_count": null,
   "id": "dae13127-8e18-441a-8555-d2de21942526",
   "metadata": {},
   "outputs": [],
   "source": []
  },
  {
   "cell_type": "markdown",
   "id": "3ae7c591-ba25-47a7-a789-6a16cd9709b7",
   "metadata": {},
   "source": [
    "## <br><br>4.2 groupby"
   ]
  },
  {
   "cell_type": "markdown",
   "id": "dbeb1c49-7387-4566-a767-363785d3a91c",
   "metadata": {},
   "source": [
    "Often, you will want to calculate the statistics for a particular subgroup of a data column."
   ]
  },
  {
   "cell_type": "markdown",
   "id": "09660610-51e9-43f9-be12-3e9287d41d30",
   "metadata": {},
   "source": [
    "For example, let's say we want to ask: **Do more fires happen on certain days of the week?** This code will tell you the count for every column in the DataFrame except the column that you are using to group your data (i.e. \"day\")."
   ]
  },
  {
   "cell_type": "code",
   "execution_count": null,
   "id": "60656711-6831-46ca-8d23-01eef5f89d1f",
   "metadata": {},
   "outputs": [],
   "source": [
    "df.groupby(\"day\").count()"
   ]
  },
  {
   "cell_type": "markdown",
   "id": "f4a154a3-1e50-4f87-a119-14b7aa16b250",
   "metadata": {},
   "source": [
    "<br>We can make this easier to read by sorting the rows from lowest count to highest count. We can string multiple method functions onto our code, as long as they go in the correct logical order. We will pick any column to sort on, since they are all the same."
   ]
  },
  {
   "cell_type": "code",
   "execution_count": null,
   "id": "1c0198a1-bb90-4478-886d-3ee199ab4bfd",
   "metadata": {},
   "outputs": [],
   "source": [
    "df.groupby(\"day\").count().sort_values(\"month\")"
   ]
  },
  {
   "cell_type": "markdown",
   "id": "7f813fd8-929a-4884-93bb-97f79077f70c",
   "metadata": {},
   "source": [
    "<br>**It looks like weekends have more fires than weekdays.**"
   ]
  },
  {
   "cell_type": "markdown",
   "id": "4ee56dfc-f544-4ca5-81f8-9e441cddf9d7",
   "metadata": {},
   "source": [
    "<br><br><br><br>If you only want to see an aggregate total for one column in the DataFrame, you can add on the indexing technique we learned earlier. With this code I will ask, **What is the mean area burned on each day of the week?**"
   ]
  },
  {
   "cell_type": "code",
   "execution_count": null,
   "id": "34fb38d1-e20c-4c3b-8cf2-879978c31eb2",
   "metadata": {},
   "outputs": [],
   "source": [
    "df.groupby(\"day\")[[\"area_burned\"]].mean()"
   ]
  },
  {
   "cell_type": "markdown",
   "id": "ea6c996d-f978-4747-be17-78e39105adde",
   "metadata": {},
   "source": [
    "<br>Again, we can also sort the data:"
   ]
  },
  {
   "cell_type": "code",
   "execution_count": null,
   "id": "8704bd13-65db-4738-bd92-99a3308ac002",
   "metadata": {},
   "outputs": [],
   "source": [
    "df.groupby(\"day\")[[\"area_burned\"]].mean().sort_values(\"area_burned\")"
   ]
  },
  {
   "cell_type": "markdown",
   "id": "03f8e67e-9ce0-49a5-82a3-6f6b53482871",
   "metadata": {},
   "source": [
    "<br>**So Saturday fires are the most destructive fires.**"
   ]
  },
  {
   "cell_type": "markdown",
   "id": "c0635760-fc6c-4b48-b7c0-d0b12df231c4",
   "metadata": {},
   "source": [
    "<br>We can also add some other functions to our code, like `round`, to make it more readable:"
   ]
  },
  {
   "cell_type": "code",
   "execution_count": null,
   "id": "b8949930-f8a2-4d6d-b3e4-c39a27520602",
   "metadata": {},
   "outputs": [],
   "source": [
    "df.groupby(\"day\")[[\"area_burned\"]].mean().round(2).sort_values(\"area_burned\")"
   ]
  },
  {
   "cell_type": "markdown",
   "id": "61608f08",
   "metadata": {},
   "source": [
    "You can even calculate aggregate statistics for multiple columns at once:"
   ]
  },
  {
   "cell_type": "code",
   "execution_count": null,
   "id": "25e22017",
   "metadata": {},
   "outputs": [],
   "source": [
    "df.groupby(\"day\")[[\"area_burned\", \"temp\", \"rain\"]].mean().round(2).sort_values(\"area_burned\")"
   ]
  },
  {
   "cell_type": "markdown",
   "id": "27073ed7-ffea-4209-bbc4-55a5f5b59e6d",
   "metadata": {},
   "source": [
    "### <br><br>Exercise 4.2"
   ]
  },
  {
   "cell_type": "markdown",
   "id": "352795f8-ddae-4662-a930-d77c82563b9c",
   "metadata": {},
   "source": [
    "**Which months had the most fires?** Write code to count how many fires happened in each month (as a bonus, sort the results):"
   ]
  },
  {
   "cell_type": "code",
   "execution_count": null,
   "id": "0498befa-df51-4384-b12f-89ba6678443a",
   "metadata": {},
   "outputs": [],
   "source": []
  },
  {
   "cell_type": "markdown",
   "id": "990b8321-d92c-4f50-947a-1d0212459081",
   "metadata": {},
   "source": [
    "**Which months have the largest fires?** Write code to calculate the mean area burned for fires in each month (as a bonus, round and sort the results):"
   ]
  },
  {
   "cell_type": "code",
   "execution_count": null,
   "id": "735a6427-3a2b-46fb-814a-e25eb0ae6b58",
   "metadata": {},
   "outputs": [],
   "source": []
  },
  {
   "cell_type": "code",
   "execution_count": null,
   "id": "f634f961-e132-4969-b56d-9a7ea18cd45e",
   "metadata": {},
   "outputs": [],
   "source": []
  },
  {
   "cell_type": "markdown",
   "id": "3c156717-cb86-4371-b2cd-157fa8dff280",
   "metadata": {},
   "source": [
    "Think of another interesting question you can ask with this dataset and write code to find the answer."
   ]
  },
  {
   "cell_type": "code",
   "execution_count": null,
   "id": "dd92dc7d-8a94-4d3c-b78e-42c72155ccd6",
   "metadata": {},
   "outputs": [],
   "source": []
  },
  {
   "cell_type": "code",
   "execution_count": null,
   "id": "69e1164e-8ea4-4fa9-91a4-a39096def11d",
   "metadata": {},
   "outputs": [],
   "source": []
  },
  {
   "cell_type": "code",
   "execution_count": null,
   "id": "74fc36cf-3d1d-40fd-8cc2-f08e7becab4f",
   "metadata": {},
   "outputs": [],
   "source": []
  },
  {
   "cell_type": "markdown",
   "id": "cd9c01e4-5a93-4223-84ff-26660f54d3c9",
   "metadata": {},
   "source": [
    "# <br><br><br>5.0 Part Five: basic plotting"
   ]
  },
  {
   "cell_type": "markdown",
   "id": "907ae5c2-89be-4a15-a056-b3c0e6732f52",
   "metadata": {},
   "source": [
    "Pandas allows you to make some basic plots without loading other packages. Plotting in pandas is good for exploring your data, and we'll focus on that today.\n",
    "<br><br>Pandas is not good for making good-looking, high-quality data visualizations. The Python library for that is called matplotlib. We will not be covering how to make data visualizations for publication, since this is not a matplotlib workshop.\n",
    "<br><br>Pandas' plotting capabilities are actually built on matplotlib, but in a much simpler format."
   ]
  },
  {
   "cell_type": "markdown",
   "id": "66ee439b-bf4e-45e2-be8f-5d262737b299",
   "metadata": {
    "tags": []
   },
   "source": [
    "## <br><br>5.1 Histograms"
   ]
  },
  {
   "cell_type": "markdown",
   "id": "9179422c-dd6e-4a68-9ec1-39e3f334dabd",
   "metadata": {},
   "source": [
    "One of the most common data exploration tasks you might do is to check the distributions of the columns in your dataset."
   ]
  },
  {
   "cell_type": "markdown",
   "id": "2d6f0de7-ceec-45ef-a813-687848190a89",
   "metadata": {},
   "source": [
    "We will use the `hist()` method function on the `temp` column."
   ]
  },
  {
   "cell_type": "code",
   "execution_count": null,
   "id": "555464fd-90e2-47a8-b3a3-9fd65debcfa6",
   "metadata": {},
   "outputs": [],
   "source": [
    "df[\"temp\"].hist()"
   ]
  },
  {
   "cell_type": "markdown",
   "id": "0dc7727f-7d04-433e-b78b-e50e15bf745d",
   "metadata": {},
   "source": [
    "<br><br>Like I said, it's not pretty, but it tells us the story of our data."
   ]
  },
  {
   "cell_type": "markdown",
   "id": "ab49c9ac-95b7-48b4-a289-6a5b45356565",
   "metadata": {},
   "source": [
    "By default, `hist()` will divide the data into 10 bins. We can change that by passing a keyword argument:"
   ]
  },
  {
   "cell_type": "code",
   "execution_count": null,
   "id": "56c99958-2254-43d6-9761-f34936b69c43",
   "metadata": {},
   "outputs": [],
   "source": [
    "df[\"temp\"].hist(bins=20)"
   ]
  },
  {
   "cell_type": "markdown",
   "id": "a2881a2b-2a49-4ff9-8436-b8613bcf3d04",
   "metadata": {},
   "source": [
    "### <br><br>Exercise 5.1.0"
   ]
  },
  {
   "cell_type": "markdown",
   "id": "a01f75df-2344-432e-bd96-f52969d60777",
   "metadata": {},
   "source": [
    "Make a histogram of the `humidity` column. Specify that you want the data grouped into 15 bins."
   ]
  },
  {
   "cell_type": "code",
   "execution_count": null,
   "id": "64c7c319-1706-49b5-b7df-15bee4f874c2",
   "metadata": {},
   "outputs": [],
   "source": []
  },
  {
   "cell_type": "markdown",
   "id": "8476b723-a6c7-4d86-aae6-cf5c2efb3396",
   "metadata": {},
   "source": [
    "<br><br><br>Another way to create a histogram in pandas is to do:"
   ]
  },
  {
   "cell_type": "code",
   "execution_count": null,
   "id": "00aa5519-8eb5-45bd-ac38-2a391caacc53",
   "metadata": {},
   "outputs": [],
   "source": [
    "df.hist(column=\"temp\")"
   ]
  },
  {
   "cell_type": "markdown",
   "id": "923c3432-5d8d-4331-864b-c2a4a2a62492",
   "metadata": {},
   "source": [
    "<br>Both ways are doing the same thing. In one, we're making a histogram on a sample of our dataframe. In the second, we're calling `hist()` on the entire dataframe and then specifying the column with an argument."
   ]
  },
  {
   "cell_type": "markdown",
   "id": "8db3c55b-3e9f-4be2-b57e-4290292bdd0a",
   "metadata": {},
   "source": [
    "<br>If we don't specify a column, we will get histograms of all columns with numerical data:"
   ]
  },
  {
   "cell_type": "code",
   "execution_count": null,
   "id": "7a95ab51-51c5-42a4-b69b-e53c3153d51a",
   "metadata": {},
   "outputs": [],
   "source": [
    "df.hist()"
   ]
  },
  {
   "cell_type": "markdown",
   "id": "c0d197da-3c15-4ff4-a19c-3a49a828a9d1",
   "metadata": {},
   "source": [
    "<br>We can also ask for a list of columns:"
   ]
  },
  {
   "cell_type": "code",
   "execution_count": null,
   "id": "becdce2d-6f12-4ea8-b683-ca3e47c75176",
   "metadata": {},
   "outputs": [],
   "source": [
    "df.hist(column=[\"temp\", \"humidity\"])"
   ]
  },
  {
   "cell_type": "markdown",
   "id": "dfec97ca-c326-495f-beb0-75831a678485",
   "metadata": {},
   "source": [
    "### <br><br>Exercise 5.1.1"
   ]
  },
  {
   "cell_type": "markdown",
   "id": "d085854d-63d2-4b7d-8126-cc46e40b04ab",
   "metadata": {},
   "source": [
    "In one line of code, create histograms for the `moisture` and `drought` columns."
   ]
  },
  {
   "cell_type": "code",
   "execution_count": null,
   "id": "965646e5-c458-4232-b221-a20199f84417",
   "metadata": {},
   "outputs": [],
   "source": []
  },
  {
   "cell_type": "markdown",
   "id": "8bc70ca9-2a05-4518-9b32-a5da90c0bfbe",
   "metadata": {},
   "source": [
    "**<br><br><br>What other changes can we make to our histogram?**"
   ]
  },
  {
   "cell_type": "markdown",
   "id": "3d094f07-0191-4ae1-82ac-44ef56bce16d",
   "metadata": {},
   "source": [
    "Let's look at the documentation. https://pandas.pydata.org/docs/reference/api/pandas.DataFrame.hist.html"
   ]
  },
  {
   "cell_type": "markdown",
   "id": "dd73946a-aad7-4117-80d9-48324065267f",
   "metadata": {},
   "source": [
    "<br>We can get rid of the grid lines!"
   ]
  },
  {
   "cell_type": "code",
   "execution_count": null,
   "id": "e9b4df72-1afb-477d-995e-41e79d3be624",
   "metadata": {},
   "outputs": [],
   "source": [
    "df.hist(column=\"temp\", grid=False)"
   ]
  },
  {
   "cell_type": "markdown",
   "id": "1fe549c5-90f7-4de5-b254-5c988c12393b",
   "metadata": {},
   "source": [
    "<br>We can also change the figure size. The `figsize` keyword argument takes a list containing two numbers: width in inches and height in inches."
   ]
  },
  {
   "cell_type": "markdown",
   "id": "16472111-67fb-43a9-9de6-e67016a4e2f7",
   "metadata": {},
   "source": [
    "### <br><br>Exercise 5.1.2"
   ]
  },
  {
   "cell_type": "markdown",
   "id": "ffbf1872-f96f-43d9-98bc-385c63a5e032",
   "metadata": {},
   "source": [
    "Remember this plot?"
   ]
  },
  {
   "cell_type": "code",
   "execution_count": null,
   "id": "990ff98f-48e2-4c60-b83e-821157b8ce8c",
   "metadata": {},
   "outputs": [],
   "source": [
    "df.hist()"
   ]
  },
  {
   "cell_type": "markdown",
   "id": "a60f92f8-e8d8-4c9e-baef-de33a1de2b30",
   "metadata": {},
   "source": [
    "<br>Change the figure size in the next line of code until you can see the plots better:"
   ]
  },
  {
   "cell_type": "code",
   "execution_count": null,
   "id": "0d3d456c-2cfa-4672-acf2-f22ff122af6e",
   "metadata": {},
   "outputs": [],
   "source": [
    "df.hist(grid=False, figsize=[2,2])"
   ]
  },
  {
   "cell_type": "markdown",
   "id": "f8e48560-4061-475d-9851-374756118d34",
   "metadata": {},
   "source": [
    "## <br><br><br>5.2 Scatter plots to check for correlation"
   ]
  },
  {
   "cell_type": "markdown",
   "id": "375970e6-ebde-4193-bb03-98bdb423dd83",
   "metadata": {},
   "source": [
    "We can make a quick scatter plot to check for correlation between 2 columns. We have to use a slightly different format for our scatter plot function. We are going to do `df.plot.scatter()`. This function requires two arguments, the columns for your x and y axes."
   ]
  },
  {
   "cell_type": "code",
   "execution_count": null,
   "id": "e156aa94-2419-44c8-a12f-efc70c5d6743",
   "metadata": {},
   "outputs": [],
   "source": [
    "df.plot.scatter(x=\"temp\", y=\"humidity\")"
   ]
  },
  {
   "cell_type": "markdown",
   "id": "7a240451-8d41-4de6-8025-06f2e37049c5",
   "metadata": {},
   "source": [
    "### <br><br>Exercise 5.2"
   ]
  },
  {
   "cell_type": "markdown",
   "id": "a709affd-c6b0-4bc8-9622-49257dad4e9e",
   "metadata": {},
   "source": [
    "Write code to create a scatter plot with the `moisture` column on the x-axis and the `drought` column on the y-axis."
   ]
  },
  {
   "cell_type": "code",
   "execution_count": null,
   "id": "8c91c4a1-068b-48ba-9e30-6c813383ad61",
   "metadata": {},
   "outputs": [],
   "source": []
  },
  {
   "cell_type": "markdown",
   "id": "d7ec3426-3243-44f5-b90b-f9d235df8a13",
   "metadata": {},
   "source": [
    "Based on what we learned with `hist()`, can you add a grid to the scatter plot you just made and change the size so that it is a perfect square?"
   ]
  },
  {
   "cell_type": "code",
   "execution_count": null,
   "id": "a79e81cc-f203-4ee2-ae7f-d815adff0851",
   "metadata": {},
   "outputs": [],
   "source": []
  },
  {
   "cell_type": "markdown",
   "id": "4a4c4ddb-4cb2-409b-a435-7aa185ac5af6",
   "metadata": {},
   "source": [
    "## <br><br><br>5.3 Slightly more complicated examples"
   ]
  },
  {
   "cell_type": "markdown",
   "id": "409c6ede-ee26-455e-ba54-a0bb221a0058",
   "metadata": {},
   "source": [
    "### <br>5.3.0 Removing Outliers"
   ]
  },
  {
   "cell_type": "markdown",
   "id": "f0ed8ab2-0d14-4665-acf0-d30d5590116f",
   "metadata": {},
   "source": [
    "Let's look at the correlation between humidity and area_burned:"
   ]
  },
  {
   "cell_type": "code",
   "execution_count": null,
   "id": "19b001bd-2d81-4156-9ff3-3645b596cda0",
   "metadata": {},
   "outputs": [],
   "source": [
    "df.plot.scatter(x=\"humidity\", y=\"area_burned\")"
   ]
  },
  {
   "cell_type": "markdown",
   "id": "4fe91560-f207-4ecf-8873-34039caab99b",
   "metadata": {},
   "source": [
    "<br>We can see that a few outliers are clouding any relationship. We can remove them with a boolean, but we need to look at the plot above and decide where to make the cutoff. Let's try getting rid of only points above 400."
   ]
  },
  {
   "cell_type": "code",
   "execution_count": null,
   "id": "42ea18a5-4ba0-44b0-bfce-00044382322a",
   "metadata": {},
   "outputs": [],
   "source": [
    "df_no_outliers = df[df[\"area_burned\"] < 400]"
   ]
  },
  {
   "cell_type": "code",
   "execution_count": null,
   "id": "a28e8e27-4b86-498e-bf15-02b8d1008dd7",
   "metadata": {},
   "outputs": [],
   "source": [
    "df_no_outliers.plot.scatter(x=\"humidity\", y=\"area_burned\")"
   ]
  },
  {
   "cell_type": "markdown",
   "id": "2ebfe037-0bbc-4291-bcbb-c55ecd6522dd",
   "metadata": {},
   "source": [
    "<br><br>There are a large number of points with 0 for area_burned. Let's remove those, and only look at days where the fires spread."
   ]
  },
  {
   "cell_type": "code",
   "execution_count": null,
   "id": "edf78f87-5f15-4ccc-a395-ca16c18880dd",
   "metadata": {},
   "outputs": [],
   "source": [
    "df_no_outliers = df[(df[\"area_burned\"] > 0) & (df[\"area_burned\"] < 400)]"
   ]
  },
  {
   "cell_type": "code",
   "execution_count": null,
   "id": "8918fc00-3fba-4e28-9598-865a485a286c",
   "metadata": {},
   "outputs": [],
   "source": [
    "df_no_outliers.plot.scatter(x=\"humidity\", y=\"area_burned\")"
   ]
  },
  {
   "cell_type": "markdown",
   "id": "f24ab949-2225-4bb6-ac0b-7165a4a87dba",
   "metadata": {},
   "source": [
    "### <br><br><br>5.3.1 Plotting with categorical data"
   ]
  },
  {
   "cell_type": "markdown",
   "id": "1f1d6391-4971-4480-8258-67a91d3c5e86",
   "metadata": {},
   "source": [
    "Let's say we want to see the relationship between month and humidity. We can try a scatter plot:"
   ]
  },
  {
   "cell_type": "code",
   "execution_count": null,
   "id": "a556cfcd-6347-4cc2-a489-82d73de36abc",
   "metadata": {},
   "outputs": [],
   "source": [
    "df.plot.scatter(x=\"month\", y=\"humidity\")"
   ]
  },
  {
   "cell_type": "markdown",
   "id": "b1a16dfd-de93-45f0-88f7-ed6fc1b435b1",
   "metadata": {},
   "source": [
    "<br>That doesn't work! Let's try another type of plot - a bar plot:"
   ]
  },
  {
   "cell_type": "code",
   "execution_count": null,
   "id": "ae535333-18b0-4c83-875e-2f9e31407eb4",
   "metadata": {},
   "outputs": [],
   "source": [
    "df.plot.bar(x=\"month\", y=\"humidity\")"
   ]
  },
  {
   "cell_type": "markdown",
   "id": "f6031899-f726-47aa-bcf5-822c838d8daf",
   "metadata": {},
   "source": [
    "<br>Also not what we're looking for. It's plotting each data point individually."
   ]
  },
  {
   "cell_type": "markdown",
   "id": "d0c83c5e-d812-4c16-a4b5-9215ba8f9ae5",
   "metadata": {},
   "source": [
    "What we really want to see is how the mean humidity changes each month. We can create a new DataFrame that only includes the data we need. We will group by month, select only the humidity column, and then find the mean."
   ]
  },
  {
   "cell_type": "code",
   "execution_count": null,
   "id": "1dfbe18e-1219-4eed-8f1e-9fac72bbb5cc",
   "metadata": {},
   "outputs": [],
   "source": [
    "hum_mean = df.groupby(\"month\")[\"humidity\"].mean()\n",
    "hum_mean"
   ]
  },
  {
   "cell_type": "markdown",
   "id": "7cbc1856-88e1-4ec5-bc3c-fead52dce5e9",
   "metadata": {},
   "source": [
    "<br>Now we have a nice series object that we can plot:"
   ]
  },
  {
   "cell_type": "code",
   "execution_count": null,
   "id": "e6c12c40-4f3c-4bc2-9a0c-08822680d957",
   "metadata": {},
   "outputs": [],
   "source": [
    "hum_mean.plot.bar()"
   ]
  },
  {
   "cell_type": "markdown",
   "id": "887889d4-8fbe-484b-bf44-1be1f22a444f",
   "metadata": {},
   "source": [
    "<br>This is looking better, but we need to sort them by month, not alphabetically. We're going to worry about that in just a minute."
   ]
  },
  {
   "cell_type": "markdown",
   "id": "6a108f19-8349-4837-8e9e-22e4abe3150d",
   "metadata": {},
   "source": [
    "### <br><br>Exercise 5.3"
   ]
  },
  {
   "cell_type": "markdown",
   "id": "6dd0d439-f003-4f10-a8a8-88ce43f5b4fb",
   "metadata": {},
   "source": [
    "Create a bar graph that shows mean temperature grouped by month. First you'll need to create a new series object with the means. Refer back to the humidity exercise directly above."
   ]
  },
  {
   "cell_type": "code",
   "execution_count": null,
   "id": "06cd8ec2-0532-442b-bd9e-a844543a2d14",
   "metadata": {},
   "outputs": [],
   "source": []
  },
  {
   "cell_type": "code",
   "execution_count": null,
   "id": "6eea6f57-4ee7-4816-9fff-d3ceb8e29290",
   "metadata": {},
   "outputs": [],
   "source": []
  },
  {
   "cell_type": "markdown",
   "id": "74ab7e2b-d43a-4ec4-b4fa-55fb3442f3ef",
   "metadata": {},
   "source": [
    "<br><br><br>Let's deal with the sorting issue! We can create a new column in our DataFrame that contains a numerical value for the month. We will use a handy pandas function called `map()`. It takes a dictionary where `key: value` pair represents `data_to_replace: new_data`."
   ]
  },
  {
   "cell_type": "code",
   "execution_count": null,
   "id": "990ddb12-2223-4c8b-bd69-3314b7ad892b",
   "metadata": {},
   "outputs": [],
   "source": [
    "df[\"month_num\"] = df[\"month\"].map({\"jan\": 1, \"feb\": 2, \"mar\": 3, \"apr\": 4, \n",
    "                          \"may\": 5, \"jun\": 6, \"jul\": 7, \"aug\": 8,\n",
    "                          \"sep\": 9, \"oct\": 10, \"nov\": 11, \"dev\": 12})\n",
    "\n",
    "df.head()"
   ]
  },
  {
   "cell_type": "markdown",
   "id": "b5f3eb07-7b83-46bf-aee3-049d1876bc79",
   "metadata": {},
   "source": [
    "<br>Now we will repeat the humidity plot we just did, but we will group by the new column."
   ]
  },
  {
   "cell_type": "code",
   "execution_count": null,
   "id": "98b18090-2fb9-42ae-9573-8606fa837e33",
   "metadata": {},
   "outputs": [],
   "source": [
    "hum_mean = df.groupby(\"month_num\")[\"humidity\"].mean()\n",
    "hum_mean.plot.bar()"
   ]
  },
  {
   "cell_type": "code",
   "execution_count": null,
   "id": "1cab6242-4484-479a-afbc-7cb466b8592a",
   "metadata": {},
   "outputs": [],
   "source": []
  }
 ],
 "metadata": {
  "kernelspec": {
   "display_name": "py-intermediate",
   "language": "python",
   "name": "python3"
  },
  "language_info": {
   "codemirror_mode": {
    "name": "ipython",
    "version": 3
   },
   "file_extension": ".py",
   "mimetype": "text/x-python",
   "name": "python",
   "nbconvert_exporter": "python",
   "pygments_lexer": "ipython3",
   "version": "3.13.5"
  }
 },
 "nbformat": 4,
 "nbformat_minor": 5
}
